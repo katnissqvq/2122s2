{
 "cells": [
  {
   "cell_type": "markdown",
   "id": "electronic-automation",
   "metadata": {},
   "source": [
    "# Application Programming Interfaces (APIs)\n",
    "\n",
    "Welcome to the sixth week of the course. By the end of this week, you should acquire:\n",
    "\n",
    "**Knowledge on:**\n",
    "* What an Application Programming Interface is\n",
    "* The various ways in which APIs can be used\n",
    "* The RESTful philosophy\n",
    "* The concept of authentication and it's pains\n",
    "* Basic HTTP responses\n",
    "\n",
    "**Skills on:**\n",
    "* Interacting with a basic RESTful API\n",
    "* Interacting with a slightly more advanced API\n",
    "\n",
    "In today's class we will rely on some pretty basic Python packages such as *requests*. "
   ]
  },
  {
   "cell_type": "code",
   "execution_count": 2,
   "id": "convertible-majority",
   "metadata": {},
   "outputs": [],
   "source": [
    "import time # allows us to do interesting things with time objects and the passage of time\n",
    "import json #allows us to interact with json objects (which is what a lot of APIs communciate in)\n",
    "import requests #allows us to make so-called http requests, i.e. the same thing you do whenever you launch facebook in a broswer"
   ]
  },
  {
   "cell_type": "markdown",
   "id": "preliminary-contents",
   "metadata": {},
   "source": [
    "# Basic APIs - cat facts!"
   ]
  },
  {
   "cell_type": "code",
   "execution_count": 3,
   "id": "fatal-conversion",
   "metadata": {},
   "outputs": [],
   "source": [
    "data = requests.get('https://catfact.ninja/fact')"
   ]
  },
  {
   "cell_type": "code",
   "execution_count": 4,
   "id": "treated-bacon",
   "metadata": {},
   "outputs": [
    {
     "data": {
      "text/plain": [
       "<Response [200]>"
      ]
     },
     "execution_count": 4,
     "metadata": {},
     "output_type": "execute_result"
    }
   ],
   "source": [
    "data"
   ]
  },
  {
   "cell_type": "code",
   "execution_count": 5,
   "id": "italic-links",
   "metadata": {},
   "outputs": [
    {
     "data": {
      "text/plain": [
       "{'fact': 'Cats have \"nine lives\" thanks to a flexible spine and powerful leg and back muscles',\n",
       " 'length': 83}"
      ]
     },
     "execution_count": 5,
     "metadata": {},
     "output_type": "execute_result"
    }
   ],
   "source": [
    "data.json()"
   ]
  },
  {
   "cell_type": "code",
   "execution_count": null,
   "id": "finite-possible",
   "metadata": {},
   "outputs": [],
   "source": [
    "#To get multiple facts, we can use our Python knowledge from previous weeks \n",
    "counter=0\n",
    "cats=[]\n",
    "while counter<30:\n",
    "    data = requests.get('https://catfact.ninja/fact')\n",
    "    cats.append(data.json())\n",
    "    counter+=1"
   ]
  },
  {
   "cell_type": "markdown",
   "id": "statistical-coverage",
   "metadata": {},
   "source": [
    "# Basic APIs - rhyming words!"
   ]
  },
  {
   "cell_type": "code",
   "execution_count": 21,
   "id": "mineral-divorce",
   "metadata": {},
   "outputs": [],
   "source": [
    "#To learn about paramters - we can give smth to an api\n",
    "#Check out the docs here https://www.datamuse.com/api/\n",
    "parameter = {\"rel_rhy\":\"bye\"}\n",
    "request = requests.get('https://api.datamuse.com/words',parameter)"
   ]
  },
  {
   "cell_type": "code",
   "execution_count": 22,
   "id": "expired-crazy",
   "metadata": {},
   "outputs": [
    {
     "name": "stdout",
     "output_type": "stream",
     "text": [
      "[{'word': 'lie', 'score': 8446, 'numSyllables': 1}, {'word': 'i', 'score': 5939, 'numSyllables': 1}, {'word': 'by', 'score': 5817, 'numSyllables': 1}, {'word': 'fly', 'score': 5385, 'numSyllables': 1}, {'word': 'eye', 'score': 5205, 'numSyllables': 1}, {'word': 'hi', 'score': 3146, 'numSyllables': 1}, {'word': 'pie', 'score': 3095, 'numSyllables': 1}, {'word': 'buy', 'score': 2960, 'numSyllables': 1}, {'word': 'high', 'score': 2530, 'numSyllables': 1}, {'word': 'tie', 'score': 2494, 'numSyllables': 1}, {'word': 'apply', 'score': 2396, 'numSyllables': 2}, {'word': 'die', 'score': 2334, 'numSyllables': 1}, {'word': 'ally', 'score': 2287, 'numSyllables': 2}, {'word': 'supply', 'score': 2216, 'numSyllables': 2}, {'word': 'identify', 'score': 2126, 'numSyllables': 4}, {'word': 'dry', 'score': 2094, 'numSyllables': 1}, {'word': 'sky', 'score': 1876, 'numSyllables': 1}, {'word': 'shy', 'score': 1866, 'numSyllables': 1}, {'word': 'wry', 'score': 1789, 'numSyllables': 1}, {'word': 'alumni', 'score': 1760, 'numSyllables': 3}, {'word': 'comply', 'score': 1758, 'numSyllables': 2}, {'word': 'belie', 'score': 1755, 'numSyllables': 2}, {'word': 'imply', 'score': 1718, 'numSyllables': 2}, {'word': 'awry', 'score': 1704, 'numSyllables': 2}, {'word': 'cry', 'score': 1696, 'numSyllables': 1}, {'word': 'reply', 'score': 1685, 'numSyllables': 2}, {'word': 'clarify', 'score': 1663, 'numSyllables': 3}, {'word': 'butterfly', 'score': 1630, 'numSyllables': 3}, {'word': 'try', 'score': 1617, 'numSyllables': 1}, {'word': 'verify', 'score': 1613, 'numSyllables': 3}, {'word': 'vie', 'score': 1562, 'numSyllables': 1}, {'word': 'deny', 'score': 1556, 'numSyllables': 2}, {'word': 'rectify', 'score': 1551, 'numSyllables': 3}, {'word': 'defy', 'score': 1550, 'numSyllables': 2}, {'word': 'guy', 'score': 1528, 'numSyllables': 1}, {'word': 'y', 'score': 1497, 'numSyllables': 1}, {'word': 'sly', 'score': 1481, 'numSyllables': 1}, {'word': 'indemnify', 'score': 1455, 'numSyllables': 4}, {'word': 'dye', 'score': 1391, 'numSyllables': 1}, {'word': 'ratify', 'score': 1378, 'numSyllables': 3}, {'word': 'goodbye', 'score': 1368, 'numSyllables': 2}, {'word': 'justify', 'score': 1328, 'numSyllables': 3}, {'word': 'decry', 'score': 1298, 'numSyllables': 2}, {'word': 'rely', 'score': 1278, 'numSyllables': 2}, {'word': 'fry', 'score': 1272, 'numSyllables': 1}, {'word': 'ply', 'score': 1260, 'numSyllables': 1}, {'word': 'ai', 'score': 1236, 'numSyllables': 1}, {'word': 'why', 'score': 1214, 'numSyllables': 1}, {'word': 'exemplify', 'score': 1209, 'numSyllables': 4}, {'word': 'my', 'score': 1204, 'numSyllables': 1}, {'word': 'nigh', 'score': 1190, 'numSyllables': 1}, {'word': 'alibi', 'score': 1172, 'numSyllables': 3}, {'word': 'pi', 'score': 1148, 'numSyllables': 1}, {'word': 'thereby', 'score': 1126, 'numSyllables': 2}, {'word': 'pry', 'score': 1118, 'numSyllables': 1}, {'word': 'bae', 'score': 1114, 'numSyllables': 1}, {'word': 'chi', 'score': 1108, 'numSyllables': 1}, {'word': 'lye', 'score': 1104, 'numSyllables': 1}, {'word': 'edify', 'score': 1093, 'numSyllables': 3}, {'word': 'tai', 'score': 1089, 'numSyllables': 1}, {'word': 'qualify', 'score': 1082, 'numSyllables': 3}, {'word': 'sigh', 'score': 1065, 'numSyllables': 1}, {'word': 'aye', 'score': 1051, 'numSyllables': 1}, {'word': 'vilify', 'score': 1051, 'numSyllables': 3}, {'word': 'whereby', 'score': 1051, 'numSyllables': 2}, {'word': 'modify', 'score': 1034, 'numSyllables': 3}, {'word': 'mollify', 'score': 1004, 'numSyllables': 3}, {'word': 'specify', 'score': 1003, 'numSyllables': 3}, {'word': 'vi', 'score': 1003, 'numSyllables': 1}, {'word': 'underlie', 'score': 984, 'numSyllables': 3}, {'word': 'lanai', 'score': 964, 'numSyllables': 2}, {'word': 'satisfy', 'score': 949, 'numSyllables': 3}, {'word': 'notify', 'score': 938, 'numSyllables': 3}, {'word': 'codify', 'score': 931, 'numSyllables': 3}, {'word': 'occupy', 'score': 919, 'numSyllables': 3}, {'word': 'spy', 'score': 905, 'numSyllables': 1}, {'word': 'rye', 'score': 891, 'numSyllables': 1}, {'word': 'hereby', 'score': 888, 'numSyllables': 2}, {'word': 'nearby', 'score': 884, 'numSyllables': 2}, {'word': 'amplify', 'score': 867, 'numSyllables': 3}, {'word': 'nye', 'score': 859, 'numSyllables': 1}, {'word': 'bely', 'score': 843, 'numSyllables': 2}, {'word': 'classify', 'score': 829, 'numSyllables': 3}, {'word': 'bi', 'score': 822, 'numSyllables': 1}, {'word': 'nullify', 'score': 819, 'numSyllables': 3}, {'word': 'stultify', 'score': 812, 'numSyllables': 3}, {'word': 'gadfly', 'score': 806, 'numSyllables': 2}, {'word': 'mortify', 'score': 802, 'numSyllables': 3}, {'word': 'ossify', 'score': 790, 'numSyllables': 3}, {'word': 'sty', 'score': 789, 'numSyllables': 1}, {'word': 'signify', 'score': 779, 'numSyllables': 3}, {'word': 'psi', 'score': 777, 'numSyllables': 1}, {'word': 'spry', 'score': 774, 'numSyllables': 1}, {'word': 'testify', 'score': 752, 'numSyllables': 3}, {'word': 'certify', 'score': 746, 'numSyllables': 3}, {'word': 'quantify', 'score': 738, 'numSyllables': 3}, {'word': 'standby', 'score': 737, 'numSyllables': 2}, {'word': 'magpie', 'score': 731, 'numSyllables': 2}, {'word': 'ly', 'score': 723, 'numSyllables': 1}, {'word': 'alkali', 'score': 712, 'numSyllables': 3}]\n"
     ]
    }
   ],
   "source": [
    "print(request.json())"
   ]
  },
  {
   "cell_type": "markdown",
   "id": "incident-ladder",
   "metadata": {},
   "source": [
    "### Note that the above code is equivalent to running https://api.datamuse.com/words?rel_rhy=bye in your browser. \n"
   ]
  },
  {
   "cell_type": "markdown",
   "id": "vertical-viewer",
   "metadata": {},
   "source": [
    "# The Guardian API"
   ]
  },
  {
   "cell_type": "code",
   "execution_count": 6,
   "id": "interesting-morrison",
   "metadata": {},
   "outputs": [
    {
     "data": {
      "text/plain": [
       "2022-03-14T00:01:43Z    1\n",
       "2022-03-08T00:01:56Z    1\n",
       "2022-03-01T14:35:23Z    1\n",
       "2022-03-01T14:49:19Z    1\n",
       "2022-03-04T17:10:12Z    1\n",
       "2022-03-05T06:00:17Z    1\n",
       "2022-03-05T07:23:08Z    1\n",
       "2022-03-06T09:00:48Z    1\n",
       "2022-03-07T10:43:13Z    1\n",
       "2022-03-07T16:14:59Z    1\n",
       "2022-03-07T18:58:40Z    1\n",
       "2022-03-07T19:18:17Z    1\n",
       "2022-03-08T16:15:03Z    1\n",
       "2022-03-13T06:30:21Z    1\n",
       "2022-03-08T19:31:59Z    1\n",
       "2022-03-08T19:44:42Z    1\n",
       "2022-03-09T13:42:21Z    1\n",
       "2022-03-09T15:00:04Z    1\n",
       "2022-03-09T18:07:45Z    1\n",
       "2022-03-10T06:00:06Z    1\n",
       "2022-03-10T06:00:07Z    1\n",
       "2022-03-10T09:13:33Z    1\n",
       "2022-03-10T18:25:52Z    1\n",
       "2022-03-12T09:14:09Z    1\n",
       "2022-03-01T06:00:13Z    1\n",
       "Name: webPublicationDate, dtype: int64"
      ]
     },
     "execution_count": 6,
     "metadata": {},
     "output_type": "execute_result"
    }
   ],
   "source": [
    "#Function that they could underdtand for pulling specific results\n",
    "#https://towardsdatascience.com/discovering-powerful-data-the-guardian-news-api-into-python-for-nlp-1829b568fb0f\n",
    "\n",
    "import pandas as pd\n",
    "import requests\n",
    "\n",
    "def query_api(tag, page, from_date, api_key):\n",
    "    \"\"\"\n",
    "    Function to query the API for a particular tag\n",
    "    returns: a response from API\n",
    "    \"\"\"\n",
    "    response = requests.get(\"https://content.guardianapis.com/search?tag=\"\n",
    "                            + tag + \"&from-date=\" + from_date \n",
    "                            +\"&page=\" + str(page) + \"&page-size=200&api-key=\" + api_key)\n",
    "    return response\n",
    "\n",
    "response = query_api('money/energy', '1', '2022-03-01', 'e723ffce-dfd5-427e-b9b8-779f5efedb02')\n",
    "df = pd.json_normalize(response.json()['response']['results'])\n",
    "df['webPublicationDate'].value_counts()"
   ]
  },
  {
   "cell_type": "markdown",
   "id": "amended-spencer",
   "metadata": {},
   "source": [
    "# Playing with other non-auth APIs"
   ]
  },
  {
   "cell_type": "markdown",
   "id": "southeast-restriction",
   "metadata": {},
   "source": [
    "Would that be an idea to show one API with auth? Like Twitter or YouTube? And show what kind of file they get out?"
   ]
  },
  {
   "cell_type": "code",
   "execution_count": null,
   "id": "governmental-yesterday",
   "metadata": {},
   "outputs": [],
   "source": []
  }
 ],
 "metadata": {
  "kernelspec": {
   "display_name": "Python 3",
   "language": "python",
   "name": "python3"
  },
  "language_info": {
   "codemirror_mode": {
    "name": "ipython",
    "version": 3
   },
   "file_extension": ".py",
   "mimetype": "text/x-python",
   "name": "python",
   "nbconvert_exporter": "python",
   "pygments_lexer": "ipython3",
   "version": "3.9.1"
  }
 },
 "nbformat": 4,
 "nbformat_minor": 5
}
