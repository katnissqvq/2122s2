{
 "cells": [
  {
   "cell_type": "markdown",
   "id": "nutritional-converter",
   "metadata": {},
   "source": [
    "# Warm-up excercises week 6\n",
    "\n",
    "Now that you have seen how to communicate with basic APIs, it's time for you to combine apply this knowledge. To prepare for the tutorial, we ask you to complete two warm-up excercises.\n",
    "\n",
    "\n",
    "Some important notes for the excercises:\n",
    "\n",
    "* These excercises are a warming up meant to help you get ready for class. Make sure to give them a try on all of them. If you get an error message, try to troubleshoot it (using Google often helps). If all else fails, go to the next excercise (but make sure to hand it in).\n",
    "* While we of course like when you get all the answers right, the important thing is to exercise and apply the knowledge. So we will still accept solutions that may not be complete, as long as we see enough effort for each excercise. \n",
    "* Delivering the warm-up excercises on time is critical, as it helps also prepare for the tutorial session.\n",
    "* As these excercises are meant to help you participate in the tutorial and us to make sure you can get as much as possible from the tutorials, we do not expect perfect answers. However, this is important to show the effort you have put in the excercises and what obstacles you faced."
   ]
  },
  {
   "cell_type": "markdown",
   "id": "supposed-priest",
   "metadata": {},
   "source": [
    "# Excercise 1\n",
    "\n",
    "1. During the lecture, we broke down our interaction with the datamuse API. The documentation for this API is available here https://www.datamuse.com/api/. Use another operation discussed in class  offered by this API apart from the ones we interacted with in the lecture. \n",
    "2. Explain the meaning of the http response code you received. \n",
    "3. Some of the endpoint return values which allow you to subset your data. For instance, rel_rhy return the rhyming word, as well as it's \"rhyming score\". We could use the rhyming score to create a dataframe with only the most \"strongly rhyming words\". Get a part of your data (API response) into a dataframe based on criteria of your choosing."
   ]
  },
  {
   "cell_type": "markdown",
   "id": "dc927fac-9987-40f4-a15d-c2ab6374e9f7",
   "metadata": {},
   "source": [
    "## For both ex1 and 2 I tried my best to follow the instructions but everything was just so confused so I didn't manage to finish it. I stop at where I'm able to."
   ]
  },
  {
   "cell_type": "markdown",
   "id": "37ce3bda-ee01-4e11-acbc-d7372621fa37",
   "metadata": {},
   "source": [
    "* Import the requests modeule to make HTTP requests, import json so that we can interact with json obeject, a form that many APIs communicate in"
   ]
  },
  {
   "cell_type": "code",
   "execution_count": 6,
   "id": "5741f163-3f44-4015-bdf8-8a6ccc0bccbe",
   "metadata": {},
   "outputs": [],
   "source": [
    "import json\n",
    "import requests"
   ]
  },
  {
   "cell_type": "code",
   "execution_count": 7,
   "id": "thousand-flower",
   "metadata": {},
   "outputs": [],
   "source": [
    "r = requests.get(\"https://api.datamuse.com/words?rel_rhy=forgetful\")\n",
    "data = r.json()"
   ]
  },
  {
   "cell_type": "markdown",
   "id": "0c07d58c-9e07-4009-9897-766e8f14cab1",
   "metadata": {},
   "source": [
    "* Obtain the status code of the HTTP response. Since the code is 200, meaning the HTTP request is successful."
   ]
  },
  {
   "cell_type": "code",
   "execution_count": 8,
   "id": "427ec920-0b1f-4afd-923c-fb928c4b204c",
   "metadata": {},
   "outputs": [
    {
     "data": {
      "text/plain": [
       "200"
      ]
     },
     "execution_count": 8,
     "metadata": {},
     "output_type": "execute_result"
    }
   ],
   "source": [
    "r.status_code"
   ]
  },
  {
   "cell_type": "markdown",
   "id": "8977e304-bc2e-4744-b15e-4c843e570289",
   "metadata": {},
   "source": [
    "* Execute and display the json file format of the data"
   ]
  },
  {
   "cell_type": "code",
   "execution_count": 9,
   "id": "42c7badd-1168-4d38-93df-b693140f4301",
   "metadata": {},
   "outputs": [
    {
     "data": {
      "text/plain": [
       "[{'word': 'fretful', 'score': 398, 'numSyllables': 2},\n",
       " {'word': 'regretful', 'score': 302, 'numSyllables': 3},\n",
       " {'word': 'threatful', 'score': 129, 'numSyllables': 2},\n",
       " {'word': 'netful', 'score': 28, 'numSyllables': 2}]"
      ]
     },
     "execution_count": 9,
     "metadata": {},
     "output_type": "execute_result"
    }
   ],
   "source": [
    "data"
   ]
  },
  {
   "cell_type": "code",
   "execution_count": 10,
   "id": "5a98ac4d-105c-42f7-9dcb-bf1a68f61aab",
   "metadata": {},
   "outputs": [],
   "source": [
    "from pandas import json_normalize\n",
    "df=json_normalize(r.json())"
   ]
  },
  {
   "cell_type": "code",
   "execution_count": 12,
   "id": "e0c99178-3c4b-40e4-8f76-e747784595a2",
   "metadata": {},
   "outputs": [
    {
     "data": {
      "text/html": [
       "<div>\n",
       "<style scoped>\n",
       "    .dataframe tbody tr th:only-of-type {\n",
       "        vertical-align: middle;\n",
       "    }\n",
       "\n",
       "    .dataframe tbody tr th {\n",
       "        vertical-align: top;\n",
       "    }\n",
       "\n",
       "    .dataframe thead th {\n",
       "        text-align: right;\n",
       "    }\n",
       "</style>\n",
       "<table border=\"1\" class=\"dataframe\">\n",
       "  <thead>\n",
       "    <tr style=\"text-align: right;\">\n",
       "      <th></th>\n",
       "      <th>word</th>\n",
       "      <th>score</th>\n",
       "      <th>numSyllables</th>\n",
       "    </tr>\n",
       "  </thead>\n",
       "  <tbody>\n",
       "    <tr>\n",
       "      <th>0</th>\n",
       "      <td>fretful</td>\n",
       "      <td>398</td>\n",
       "      <td>2</td>\n",
       "    </tr>\n",
       "    <tr>\n",
       "      <th>1</th>\n",
       "      <td>regretful</td>\n",
       "      <td>302</td>\n",
       "      <td>3</td>\n",
       "    </tr>\n",
       "    <tr>\n",
       "      <th>2</th>\n",
       "      <td>threatful</td>\n",
       "      <td>129</td>\n",
       "      <td>2</td>\n",
       "    </tr>\n",
       "    <tr>\n",
       "      <th>3</th>\n",
       "      <td>netful</td>\n",
       "      <td>28</td>\n",
       "      <td>2</td>\n",
       "    </tr>\n",
       "  </tbody>\n",
       "</table>\n",
       "</div>"
      ],
      "text/plain": [
       "        word  score  numSyllables\n",
       "0    fretful    398             2\n",
       "1  regretful    302             3\n",
       "2  threatful    129             2\n",
       "3     netful     28             2"
      ]
     },
     "execution_count": 12,
     "metadata": {},
     "output_type": "execute_result"
    }
   ],
   "source": [
    "df.head()\n"
   ]
  },
  {
   "cell_type": "code",
   "execution_count": 14,
   "id": "f96cc94b-70f6-4ba9-8815-f529db2e01f7",
   "metadata": {},
   "outputs": [
    {
     "data": {
      "text/html": [
       "<div>\n",
       "<style scoped>\n",
       "    .dataframe tbody tr th:only-of-type {\n",
       "        vertical-align: middle;\n",
       "    }\n",
       "\n",
       "    .dataframe tbody tr th {\n",
       "        vertical-align: top;\n",
       "    }\n",
       "\n",
       "    .dataframe thead th {\n",
       "        text-align: right;\n",
       "    }\n",
       "</style>\n",
       "<table border=\"1\" class=\"dataframe\">\n",
       "  <thead>\n",
       "    <tr style=\"text-align: right;\">\n",
       "      <th></th>\n",
       "      <th>word</th>\n",
       "      <th>score</th>\n",
       "      <th>numSyllables</th>\n",
       "    </tr>\n",
       "  </thead>\n",
       "  <tbody>\n",
       "    <tr>\n",
       "      <th>0</th>\n",
       "      <td>fretful</td>\n",
       "      <td>398</td>\n",
       "      <td>2</td>\n",
       "    </tr>\n",
       "    <tr>\n",
       "      <th>1</th>\n",
       "      <td>regretful</td>\n",
       "      <td>302</td>\n",
       "      <td>3</td>\n",
       "    </tr>\n",
       "  </tbody>\n",
       "</table>\n",
       "</div>"
      ],
      "text/plain": [
       "        word  score  numSyllables\n",
       "0    fretful    398             2\n",
       "1  regretful    302             3"
      ]
     },
     "execution_count": 14,
     "metadata": {},
     "output_type": "execute_result"
    }
   ],
   "source": [
    "df2=df[df['score']>df['score'].mean()]\n",
    "df2"
   ]
  },
  {
   "cell_type": "code",
   "execution_count": 11,
   "id": "9a052210-4956-4db8-8266-49cdb2cd0c06",
   "metadata": {},
   "outputs": [
    {
     "ename": "SyntaxError",
     "evalue": "invalid syntax (Temp/ipykernel_3280/879008167.py, line 4)",
     "output_type": "error",
     "traceback": [
      "\u001b[1;36m  File \u001b[1;32m\"C:\\Users\\KATNIS~1\\AppData\\Local\\Temp/ipykernel_3280/879008167.py\"\u001b[1;36m, line \u001b[1;32m4\u001b[0m\n\u001b[1;33m    for any x in dict:\u001b[0m\n\u001b[1;37m            ^\u001b[0m\n\u001b[1;31mSyntaxError\u001b[0m\u001b[1;31m:\u001b[0m invalid syntax\n"
     ]
    }
   ],
   "source": [
    "strongly_rhyme=[]\n",
    "\n",
    "def strong(dict):\n",
    "    for any x in dict:\n",
    "        for k in x.keys() and v in x.values():\n",
    "            if v>100:\n",
    "                return x\n",
    "\n",
    "strong(data)\n",
    "                \n",
    "\n"
   ]
  },
  {
   "cell_type": "code",
   "execution_count": null,
   "id": "c4ba42e1-71d1-4975-bf5c-bf3b8a00f04e",
   "metadata": {},
   "outputs": [],
   "source": []
  },
  {
   "cell_type": "code",
   "execution_count": null,
   "id": "f5e4d58d-aeca-469d-93c4-94572f9c651a",
   "metadata": {},
   "outputs": [],
   "source": []
  },
  {
   "cell_type": "markdown",
   "id": "allied-large",
   "metadata": {},
   "source": [
    "# Excercise 2\n",
    "\n",
    "1. Use the API snippet from The Guardian provided in the lecture, and the documentation available here https://open-platform.theguardian.com/documentation/, to create a custom query from the Guardian of your choosing. To complete this excercise, your custom query must return at least 20 rows of data. Use the API credential (key) provided in the function in the lecture notebook. If you receive an error regarding a conflciting query occuring at the same time, try to run the snippet again until you establish a succesful connection with the API/get a succesful response. \n",
    "2. Conduct a basic exploratory analysis to explore what columns the dataset has, how many articles you retreived, and in what sections of the website they were published. \n",
    "3. Play around with the webPublicationDate column which shows when the articles from your query were published. The column is NOT datetime and needs to be. Transform to datetime to visualise or otherwise informatively count the number of articles published on a particular date. "
   ]
  },
  {
   "cell_type": "markdown",
   "id": "30216c4a-adf2-4030-b6f8-72b9f5232ff9",
   "metadata": {},
   "source": [
    "* Register in Guradian and get the key 402eed04-252d-4f5d-afaf-89160971f1bc"
   ]
  },
  {
   "cell_type": "code",
   "execution_count": 67,
   "id": "2c5a0f66-f36f-460b-b71e-3bec45a9794e",
   "metadata": {},
   "outputs": [],
   "source": [
    "api_key = '402eed04-252d-4f5d-afaf-89160971f1bc'\n"
   ]
  },
  {
   "cell_type": "code",
   "execution_count": 66,
   "id": "a4dfaec9-0800-40f7-8a11-b6c5c9e22c90",
   "metadata": {},
   "outputs": [],
   "source": [
    "tag_json = requests.get('https://content.guardianapis.com/tags?q=energy&page-size=200&api-key=402eed04-252d-4f5d-afaf-89160971f1bc').json()"
   ]
  },
  {
   "cell_type": "markdown",
   "id": "0e1c9ca7-48b3-4665-afd9-ea8f24a5f2fc",
   "metadata": {},
   "source": [
    "* Import pandas "
   ]
  },
  {
   "cell_type": "code",
   "execution_count": 60,
   "id": "induced-calibration",
   "metadata": {},
   "outputs": [],
   "source": [
    "import pandas as pd"
   ]
  },
  {
   "cell_type": "markdown",
   "id": "afb42940-e76e-48eb-9886-8aa65f25bc2c",
   "metadata": {},
   "source": [
    "* Writhe the query and extract data"
   ]
  },
  {
   "cell_type": "code",
   "execution_count": null,
   "id": "7be0906b-ee88-45f1-a75f-49b029ae9f57",
   "metadata": {},
   "outputs": [],
   "source": [
    "def query_api(tag, page, from_date, api_key):\n",
    "    response = requests.get(\"https://content.guardianapis.com/search?tag=\"\n",
    "                            + tag + \"&from-date=\" + from_date \n",
    "                            +\"&page=\" + str(page) + \"&page-size=200&api-key=\" + api_key)\n",
    "    return response\n",
    "\n",
    "response = query_api('science/energy', '1', '2022-01-01', '402eed04-252d-4f5d-afaf-89160971f1bc')\n"
   ]
  },
  {
   "cell_type": "code",
   "execution_count": 65,
   "id": "bd42d9e8-3522-490e-b489-15e73e45ccaa",
   "metadata": {},
   "outputs": [],
   "source": [
    "def get_results_for_tag(tag, from_date, api_key):\n",
    "    json_responses = []\n",
    "    response = response.json()\n",
    "    json_responses.append(response)\n",
    "    number_of_results = response['response']['total']\n",
    "    if number_of_results > 20:\n",
    "        for page in range(2, (round(number_of_results/20))+1):\n",
    "            response = query_api(tag, page, from_date, api_key).json()\n",
    "            json_responses.append(response)\n",
    "    return json_responses\n",
    "\n"
   ]
  },
  {
   "cell_type": "markdown",
   "id": "a269c76a-1585-4578-9148-601eacef23b9",
   "metadata": {},
   "source": [
    "I tried to follow the instructions on the website but I'm not sure while the data does not appear, the tag I chose is selected from the tag list \"science/energy\", and all other informations follow the format. IT's just doesn't work."
   ]
  },
  {
   "cell_type": "code",
   "execution_count": null,
   "id": "36fb4b55-16f5-4372-ae56-1ac5d18af9d1",
   "metadata": {},
   "outputs": [],
   "source": []
  }
 ],
 "metadata": {
  "kernelspec": {
   "display_name": "Python 3 (ipykernel)",
   "language": "python",
   "name": "python3"
  },
  "language_info": {
   "codemirror_mode": {
    "name": "ipython",
    "version": 3
   },
   "file_extension": ".py",
   "mimetype": "text/x-python",
   "name": "python",
   "nbconvert_exporter": "python",
   "pygments_lexer": "ipython3",
   "version": "3.9.7"
  }
 },
 "nbformat": 4,
 "nbformat_minor": 5
}
