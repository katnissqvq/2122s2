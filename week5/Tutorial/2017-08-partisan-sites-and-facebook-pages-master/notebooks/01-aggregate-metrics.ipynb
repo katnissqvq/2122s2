{
 "cells": [
  {
   "cell_type": "markdown",
   "metadata": {},
   "source": [
    "# Calculate aggregate engagement metrics and get top posts\n",
    "\n",
    "This notebook loads the raw data produced by Facebook's API, and then calculates the following: \n",
    "\n",
    "- Each page's number of posts and total engagement for each week and month between `2015-01-01` and `2017-03-31`, and for several specific time periods\n",
    "\n",
    "\n",
    "- The total engagement for the 100 most popular posts on the left and right each week\n",
    "\n",
    "\n",
    "- The top 50 posts overall, and by post type (photo, video, etc.)\n"
   ]
  },
  {
   "cell_type": "code",
   "execution_count": 1,
   "metadata": {
    "collapsed": true
   },
   "outputs": [],
   "source": [
    "import pandas as pd\n",
    "from datetime import datetime, timedelta\n",
    "from glob import glob"
   ]
  },
  {
   "cell_type": "markdown",
   "metadata": {},
   "source": [
    "## Load the raw data"
   ]
  },
  {
   "cell_type": "code",
   "execution_count": 2,
   "metadata": {},
   "outputs": [
    {
     "data": {
      "text/plain": [
       "452"
      ]
     },
     "execution_count": 2,
     "metadata": {},
     "output_type": "execute_result"
    }
   ],
   "source": [
    "status_paths = glob(\"../data/statuses/*.csv\")\n",
    "len(status_paths)"
   ]
  },
  {
   "cell_type": "code",
   "execution_count": 3,
   "metadata": {
    "collapsed": true
   },
   "outputs": [],
   "source": [
    "def parse_status_csv(path):\n",
    "    return pd.read_csv(\n",
    "        path,\n",
    "        parse_dates=['status_published'],\n",
    "        date_parser=lambda x: pd.datetime.strptime(x, '%Y-%m-%d %H:%M:%S'),\n",
    "    ).assign(page_id=lambda x: x[\"status_id\"].str.split(\"_\").str[0])"
   ]
  },
  {
   "cell_type": "code",
   "execution_count": 4,
   "metadata": {
    "collapsed": true
   },
   "outputs": [],
   "source": [
    "_statuses = pd.concat([ parse_status_csv(path) for path in status_paths ])\\\n",
    "    .drop_duplicates(subset=[\"status_id\"])"
   ]
  },
  {
   "cell_type": "code",
   "execution_count": 5,
   "metadata": {},
   "outputs": [
    {
     "data": {
      "text/plain": [
       "4022667"
      ]
     },
     "execution_count": 5,
     "metadata": {},
     "output_type": "execute_result"
    }
   ],
   "source": [
    "len(_statuses)"
   ]
  },
  {
   "cell_type": "markdown",
   "metadata": {},
   "source": [
    "## Select only statuses posted between `2015-01-01` and `2017-03-31`, and remove cover photos\n",
    "\n",
    "(Changes to a page's cover photo are counted as posts in Facebook's API data.)"
   ]
  },
  {
   "cell_type": "code",
   "execution_count": 6,
   "metadata": {},
   "outputs": [
    {
     "data": {
      "text/plain": [
       "1917"
      ]
     },
     "execution_count": 6,
     "metadata": {},
     "output_type": "execute_result"
    }
   ],
   "source": [
    "cover_photos = _statuses[\n",
    "    (_statuses[\"status_type\"] == \"photo\") &\n",
    "    _statuses[\"status_link\"].str.contains(r\"^https://www.facebook.com\") &\n",
    "    _statuses[\"link_name\"].str.contains(r\" cover photo$\")\n",
    "]\n",
    "len(cover_photos)"
   ]
  },
  {
   "cell_type": "code",
   "execution_count": 7,
   "metadata": {
    "scrolled": true
   },
   "outputs": [
    {
     "data": {
      "text/plain": [
       "The Republican Coffee Corner with Angela's cover photo    411\n",
       "Truthdig's cover photo                                    277\n",
       "Real Progressives's cover photo                           100\n",
       "Being Liberal's cover photo                                45\n",
       "WND's cover photo                                          38\n",
       "Name: link_name, dtype: int64"
      ]
     },
     "execution_count": 7,
     "metadata": {},
     "output_type": "execute_result"
    }
   ],
   "source": [
    "cover_photos[\"link_name\"].value_counts().head()"
   ]
  },
  {
   "cell_type": "code",
   "execution_count": 8,
   "metadata": {
    "collapsed": true
   },
   "outputs": [],
   "source": [
    "to_date = lambda x: datetime.strptime(x, \"%Y-%m-%d\").date()"
   ]
  },
  {
   "cell_type": "code",
   "execution_count": 9,
   "metadata": {},
   "outputs": [
    {
     "data": {
      "text/plain": [
       "4020255"
      ]
     },
     "execution_count": 9,
     "metadata": {},
     "output_type": "execute_result"
    }
   ],
   "source": [
    "statuses = _statuses[\n",
    "    ~_statuses[\"status_id\"].isin(set(cover_photos[\"status_id\"])) &\n",
    "    (_statuses[\"status_published\"].dt.date >= to_date(\"2015-01-01\")) &\n",
    "    (_statuses[\"status_published\"].dt.date < to_date(\"2017-04-01\"))\n",
    "]\n",
    "\n",
    "len(statuses)"
   ]
  },
  {
   "cell_type": "markdown",
   "metadata": {},
   "source": [
    "## Add partisanship categorizations"
   ]
  },
  {
   "cell_type": "code",
   "execution_count": 10,
   "metadata": {
    "collapsed": true
   },
   "outputs": [],
   "source": [
    "page_info = pd.read_csv(\n",
    "    '../output/fb-page-info-summary.csv',\n",
    "    dtype={ \"page_id\": str },\n",
    ")"
   ]
  },
  {
   "cell_type": "code",
   "execution_count": 11,
   "metadata": {
    "collapsed": true
   },
   "outputs": [],
   "source": [
    "statuses = pd.merge(\n",
    "    page_info[[ \"page_id\", \"page_name\", \"political_category\" ]],\n",
    "    statuses,\n",
    "    on=\"page_id\",\n",
    "    how=\"left\"\n",
    ")"
   ]
  },
  {
   "cell_type": "code",
   "execution_count": 12,
   "metadata": {},
   "outputs": [
    {
     "data": {
      "text/plain": [
       "4020255"
      ]
     },
     "execution_count": 12,
     "metadata": {},
     "output_type": "execute_result"
    }
   ],
   "source": [
    "# Should be same number as before.\n",
    "len(statuses)"
   ]
  },
  {
   "cell_type": "markdown",
   "metadata": {},
   "source": [
    "### Pages with missing `political_category`\n",
    "\n",
    "(There should be none.)"
   ]
  },
  {
   "cell_type": "code",
   "execution_count": 13,
   "metadata": {
    "scrolled": true
   },
   "outputs": [
    {
     "name": "stdout",
     "output_type": "stream",
     "text": [
      "\n"
     ]
    }
   ],
   "source": [
    "print(\"\\n\".join(statuses[\n",
    "    statuses[\"political_category\"].isnull()\n",
    "][\"page_id\"].unique()))"
   ]
  },
  {
   "cell_type": "markdown",
   "metadata": {},
   "source": [
    "## Calculate  `total_engagement` for each post"
   ]
  },
  {
   "cell_type": "code",
   "execution_count": 14,
   "metadata": {
    "collapsed": true
   },
   "outputs": [],
   "source": [
    "METRIC_COLUMNS = [ c for c in statuses.columns if \"num_\" in c ]"
   ]
  },
  {
   "cell_type": "code",
   "execution_count": 15,
   "metadata": {
    "collapsed": true
   },
   "outputs": [],
   "source": [
    "statuses[METRIC_COLUMNS] = statuses[METRIC_COLUMNS].astype(int)"
   ]
  },
  {
   "cell_type": "code",
   "execution_count": 16,
   "metadata": {
    "collapsed": true
   },
   "outputs": [],
   "source": [
    "statuses[\"total_engagement\"] = statuses[[ \"num_reactions\", \"num_comments\", \"num_shares\" ]].sum(axis=1)"
   ]
  },
  {
   "cell_type": "markdown",
   "metadata": {},
   "source": [
    "## Calculate metrics by week and month"
   ]
  },
  {
   "cell_type": "code",
   "execution_count": 17,
   "metadata": {
    "collapsed": true
   },
   "outputs": [],
   "source": [
    "def aggregate(statuses, groups, metric_fn=sum):\n",
    "    grp = statuses.groupby(groups)\n",
    "    df = grp[[\"total_engagement\"] + METRIC_COLUMNS ].agg(metric_fn)\n",
    "    df[\"post_count\"] = grp.size()\n",
    "    return df"
   ]
  },
  {
   "cell_type": "code",
   "execution_count": 18,
   "metadata": {
    "collapsed": true
   },
   "outputs": [],
   "source": [
    "def aggregate_pages_by_time(statuses, frequency, metric_fn=sum):\n",
    "    time_grouper = pd.Grouper(\n",
    "        key=\"status_published\",\n",
    "        freq=frequency,\n",
    "        closed=\"left\",\n",
    "        label=\"left\"\n",
    "    )\n",
    "    return aggregate(statuses, [ \"page_id\", time_grouper ], metric_fn)"
   ]
  },
  {
   "cell_type": "markdown",
   "metadata": {},
   "source": [
    "### Weekly"
   ]
  },
  {
   "cell_type": "code",
   "execution_count": 19,
   "metadata": {
    "scrolled": true
   },
   "outputs": [
    {
     "data": {
      "text/html": [
       "<div>\n",
       "<style>\n",
       "    .dataframe thead tr:only-child th {\n",
       "        text-align: right;\n",
       "    }\n",
       "\n",
       "    .dataframe thead th {\n",
       "        text-align: left;\n",
       "    }\n",
       "\n",
       "    .dataframe tbody tr th {\n",
       "        vertical-align: top;\n",
       "    }\n",
       "</style>\n",
       "<table border=\"1\" class=\"dataframe\">\n",
       "  <thead>\n",
       "    <tr style=\"text-align: right;\">\n",
       "      <th></th>\n",
       "      <th></th>\n",
       "      <th>total_engagement</th>\n",
       "      <th>num_reactions</th>\n",
       "      <th>num_comments</th>\n",
       "      <th>num_shares</th>\n",
       "      <th>num_likes</th>\n",
       "      <th>num_loves</th>\n",
       "      <th>num_wows</th>\n",
       "      <th>num_hahas</th>\n",
       "      <th>num_sads</th>\n",
       "      <th>num_angrys</th>\n",
       "      <th>post_count</th>\n",
       "    </tr>\n",
       "    <tr>\n",
       "      <th>page_id</th>\n",
       "      <th>status_published</th>\n",
       "      <th></th>\n",
       "      <th></th>\n",
       "      <th></th>\n",
       "      <th></th>\n",
       "      <th></th>\n",
       "      <th></th>\n",
       "      <th></th>\n",
       "      <th></th>\n",
       "      <th></th>\n",
       "      <th></th>\n",
       "      <th></th>\n",
       "    </tr>\n",
       "  </thead>\n",
       "  <tbody>\n",
       "    <tr>\n",
       "      <th rowspan=\"5\" valign=\"top\">100434040001314</th>\n",
       "      <th>2014-12-28</th>\n",
       "      <td>2507</td>\n",
       "      <td>1733</td>\n",
       "      <td>255</td>\n",
       "      <td>519</td>\n",
       "      <td>1733</td>\n",
       "      <td>0</td>\n",
       "      <td>0</td>\n",
       "      <td>0</td>\n",
       "      <td>0</td>\n",
       "      <td>0</td>\n",
       "      <td>20</td>\n",
       "    </tr>\n",
       "    <tr>\n",
       "      <th>2015-01-04</th>\n",
       "      <td>8534</td>\n",
       "      <td>6149</td>\n",
       "      <td>788</td>\n",
       "      <td>1597</td>\n",
       "      <td>6149</td>\n",
       "      <td>0</td>\n",
       "      <td>0</td>\n",
       "      <td>0</td>\n",
       "      <td>0</td>\n",
       "      <td>0</td>\n",
       "      <td>74</td>\n",
       "    </tr>\n",
       "    <tr>\n",
       "      <th>2015-01-11</th>\n",
       "      <td>9975</td>\n",
       "      <td>6978</td>\n",
       "      <td>839</td>\n",
       "      <td>2158</td>\n",
       "      <td>6978</td>\n",
       "      <td>0</td>\n",
       "      <td>0</td>\n",
       "      <td>0</td>\n",
       "      <td>0</td>\n",
       "      <td>0</td>\n",
       "      <td>78</td>\n",
       "    </tr>\n",
       "    <tr>\n",
       "      <th>2015-01-18</th>\n",
       "      <td>11411</td>\n",
       "      <td>8491</td>\n",
       "      <td>920</td>\n",
       "      <td>2000</td>\n",
       "      <td>8491</td>\n",
       "      <td>0</td>\n",
       "      <td>0</td>\n",
       "      <td>0</td>\n",
       "      <td>0</td>\n",
       "      <td>0</td>\n",
       "      <td>77</td>\n",
       "    </tr>\n",
       "    <tr>\n",
       "      <th>2015-01-25</th>\n",
       "      <td>8772</td>\n",
       "      <td>6242</td>\n",
       "      <td>863</td>\n",
       "      <td>1667</td>\n",
       "      <td>6242</td>\n",
       "      <td>0</td>\n",
       "      <td>0</td>\n",
       "      <td>0</td>\n",
       "      <td>0</td>\n",
       "      <td>0</td>\n",
       "      <td>72</td>\n",
       "    </tr>\n",
       "  </tbody>\n",
       "</table>\n",
       "</div>"
      ],
      "text/plain": [
       "                                  total_engagement  num_reactions  \\\n",
       "page_id         status_published                                    \n",
       "100434040001314 2014-12-28                    2507           1733   \n",
       "                2015-01-04                    8534           6149   \n",
       "                2015-01-11                    9975           6978   \n",
       "                2015-01-18                   11411           8491   \n",
       "                2015-01-25                    8772           6242   \n",
       "\n",
       "                                  num_comments  num_shares  num_likes  \\\n",
       "page_id         status_published                                        \n",
       "100434040001314 2014-12-28                 255         519       1733   \n",
       "                2015-01-04                 788        1597       6149   \n",
       "                2015-01-11                 839        2158       6978   \n",
       "                2015-01-18                 920        2000       8491   \n",
       "                2015-01-25                 863        1667       6242   \n",
       "\n",
       "                                  num_loves  num_wows  num_hahas  num_sads  \\\n",
       "page_id         status_published                                             \n",
       "100434040001314 2014-12-28                0         0          0         0   \n",
       "                2015-01-04                0         0          0         0   \n",
       "                2015-01-11                0         0          0         0   \n",
       "                2015-01-18                0         0          0         0   \n",
       "                2015-01-25                0         0          0         0   \n",
       "\n",
       "                                  num_angrys  post_count  \n",
       "page_id         status_published                          \n",
       "100434040001314 2014-12-28                 0          20  \n",
       "                2015-01-04                 0          74  \n",
       "                2015-01-11                 0          78  \n",
       "                2015-01-18                 0          77  \n",
       "                2015-01-25                 0          72  "
      ]
     },
     "execution_count": 19,
     "metadata": {},
     "output_type": "execute_result"
    }
   ],
   "source": [
    "weekly_totals = aggregate_pages_by_time(statuses, \"W-SUN\").astype(int)\n",
    "weekly_totals.head()"
   ]
  },
  {
   "cell_type": "code",
   "execution_count": 20,
   "metadata": {
    "collapsed": true
   },
   "outputs": [],
   "source": [
    "weekly_totals.to_csv(\"../output/page-engagement-by-week.csv\")"
   ]
  },
  {
   "cell_type": "markdown",
   "metadata": {},
   "source": [
    "#### Just for Fox News and Occupy Democrats"
   ]
  },
  {
   "cell_type": "code",
   "execution_count": 21,
   "metadata": {},
   "outputs": [
    {
     "data": {
      "text/plain": [
       "{'15704546335': 'Fox News', '346937065399354': 'Occupy Democrats'}"
      ]
     },
     "execution_count": 21,
     "metadata": {},
     "output_type": "execute_result"
    }
   ],
   "source": [
    "fox_and_occupy_ids = page_info[\n",
    "    page_info[\"page_name\"].isin([ \"Fox News\", \"Occupy Democrats\" ])\n",
    "].set_index(\"page_id\")[\"page_name\"].to_dict()\n",
    "fox_and_occupy_ids"
   ]
  },
  {
   "cell_type": "code",
   "execution_count": 22,
   "metadata": {},
   "outputs": [
    {
     "data": {
      "text/html": [
       "<div>\n",
       "<style>\n",
       "    .dataframe thead tr:only-child th {\n",
       "        text-align: right;\n",
       "    }\n",
       "\n",
       "    .dataframe thead th {\n",
       "        text-align: left;\n",
       "    }\n",
       "\n",
       "    .dataframe tbody tr th {\n",
       "        vertical-align: top;\n",
       "    }\n",
       "</style>\n",
       "<table border=\"1\" class=\"dataframe\">\n",
       "  <thead>\n",
       "    <tr style=\"text-align: right;\">\n",
       "      <th>page_id</th>\n",
       "      <th>Fox News</th>\n",
       "      <th>Occupy Democrats</th>\n",
       "    </tr>\n",
       "    <tr>\n",
       "      <th>status_published</th>\n",
       "      <th></th>\n",
       "      <th></th>\n",
       "    </tr>\n",
       "  </thead>\n",
       "  <tbody>\n",
       "    <tr>\n",
       "      <th>2014-12-28</th>\n",
       "      <td>1166366</td>\n",
       "      <td>962809</td>\n",
       "    </tr>\n",
       "    <tr>\n",
       "      <th>2015-01-04</th>\n",
       "      <td>3486540</td>\n",
       "      <td>357919</td>\n",
       "    </tr>\n",
       "    <tr>\n",
       "      <th>2015-01-11</th>\n",
       "      <td>4479245</td>\n",
       "      <td>875899</td>\n",
       "    </tr>\n",
       "    <tr>\n",
       "      <th>2015-01-18</th>\n",
       "      <td>3888642</td>\n",
       "      <td>1042961</td>\n",
       "    </tr>\n",
       "    <tr>\n",
       "      <th>2015-01-25</th>\n",
       "      <td>2287591</td>\n",
       "      <td>488994</td>\n",
       "    </tr>\n",
       "  </tbody>\n",
       "</table>\n",
       "</div>"
      ],
      "text/plain": [
       "page_id           Fox News  Occupy Democrats\n",
       "status_published                            \n",
       "2014-12-28         1166366            962809\n",
       "2015-01-04         3486540            357919\n",
       "2015-01-11         4479245            875899\n",
       "2015-01-18         3888642           1042961\n",
       "2015-01-25         2287591            488994"
      ]
     },
     "execution_count": 22,
     "metadata": {},
     "output_type": "execute_result"
    }
   ],
   "source": [
    "fox_vs_occupy_weekly_engagement = weekly_totals.loc[list(fox_and_occupy_ids.keys())]\\\n",
    "    [\"total_engagement\"].unstack(level=0)\\\n",
    "    .rename(columns=fox_and_occupy_ids).astype(int)\n",
    "\n",
    "fox_vs_occupy_weekly_engagement.head()"
   ]
  },
  {
   "cell_type": "code",
   "execution_count": 23,
   "metadata": {
    "collapsed": true
   },
   "outputs": [],
   "source": [
    "fox_vs_occupy_weekly_engagement.to_csv(\"../output/fox-vs-occupy-engagement-by-week.csv\")"
   ]
  },
  {
   "cell_type": "markdown",
   "metadata": {},
   "source": [
    "### Monthly"
   ]
  },
  {
   "cell_type": "code",
   "execution_count": 24,
   "metadata": {},
   "outputs": [
    {
     "data": {
      "text/html": [
       "<div>\n",
       "<style>\n",
       "    .dataframe thead tr:only-child th {\n",
       "        text-align: right;\n",
       "    }\n",
       "\n",
       "    .dataframe thead th {\n",
       "        text-align: left;\n",
       "    }\n",
       "\n",
       "    .dataframe tbody tr th {\n",
       "        vertical-align: top;\n",
       "    }\n",
       "</style>\n",
       "<table border=\"1\" class=\"dataframe\">\n",
       "  <thead>\n",
       "    <tr style=\"text-align: right;\">\n",
       "      <th></th>\n",
       "      <th></th>\n",
       "      <th>total_engagement</th>\n",
       "      <th>num_reactions</th>\n",
       "      <th>num_comments</th>\n",
       "      <th>num_shares</th>\n",
       "      <th>num_likes</th>\n",
       "      <th>num_loves</th>\n",
       "      <th>num_wows</th>\n",
       "      <th>num_hahas</th>\n",
       "      <th>num_sads</th>\n",
       "      <th>num_angrys</th>\n",
       "      <th>post_count</th>\n",
       "    </tr>\n",
       "    <tr>\n",
       "      <th>page_id</th>\n",
       "      <th>status_published</th>\n",
       "      <th></th>\n",
       "      <th></th>\n",
       "      <th></th>\n",
       "      <th></th>\n",
       "      <th></th>\n",
       "      <th></th>\n",
       "      <th></th>\n",
       "      <th></th>\n",
       "      <th></th>\n",
       "      <th></th>\n",
       "      <th></th>\n",
       "    </tr>\n",
       "  </thead>\n",
       "  <tbody>\n",
       "    <tr>\n",
       "      <th rowspan=\"5\" valign=\"top\">100434040001314</th>\n",
       "      <th>2015-01-01</th>\n",
       "      <td>41199</td>\n",
       "      <td>29593</td>\n",
       "      <td>3665</td>\n",
       "      <td>7941</td>\n",
       "      <td>29593</td>\n",
       "      <td>0</td>\n",
       "      <td>0</td>\n",
       "      <td>0</td>\n",
       "      <td>0</td>\n",
       "      <td>0</td>\n",
       "      <td>321</td>\n",
       "    </tr>\n",
       "    <tr>\n",
       "      <th>2015-02-01</th>\n",
       "      <td>42369</td>\n",
       "      <td>30672</td>\n",
       "      <td>3873</td>\n",
       "      <td>7824</td>\n",
       "      <td>30672</td>\n",
       "      <td>0</td>\n",
       "      <td>0</td>\n",
       "      <td>0</td>\n",
       "      <td>0</td>\n",
       "      <td>0</td>\n",
       "      <td>346</td>\n",
       "    </tr>\n",
       "    <tr>\n",
       "      <th>2015-03-01</th>\n",
       "      <td>57146</td>\n",
       "      <td>41921</td>\n",
       "      <td>4773</td>\n",
       "      <td>10452</td>\n",
       "      <td>41921</td>\n",
       "      <td>0</td>\n",
       "      <td>0</td>\n",
       "      <td>0</td>\n",
       "      <td>0</td>\n",
       "      <td>0</td>\n",
       "      <td>388</td>\n",
       "    </tr>\n",
       "    <tr>\n",
       "      <th>2015-04-01</th>\n",
       "      <td>67353</td>\n",
       "      <td>50715</td>\n",
       "      <td>5116</td>\n",
       "      <td>11522</td>\n",
       "      <td>50715</td>\n",
       "      <td>0</td>\n",
       "      <td>0</td>\n",
       "      <td>0</td>\n",
       "      <td>0</td>\n",
       "      <td>0</td>\n",
       "      <td>455</td>\n",
       "    </tr>\n",
       "    <tr>\n",
       "      <th>2015-05-01</th>\n",
       "      <td>69072</td>\n",
       "      <td>49787</td>\n",
       "      <td>5682</td>\n",
       "      <td>13603</td>\n",
       "      <td>49787</td>\n",
       "      <td>0</td>\n",
       "      <td>0</td>\n",
       "      <td>0</td>\n",
       "      <td>0</td>\n",
       "      <td>0</td>\n",
       "      <td>441</td>\n",
       "    </tr>\n",
       "  </tbody>\n",
       "</table>\n",
       "</div>"
      ],
      "text/plain": [
       "                                  total_engagement  num_reactions  \\\n",
       "page_id         status_published                                    \n",
       "100434040001314 2015-01-01                   41199          29593   \n",
       "                2015-02-01                   42369          30672   \n",
       "                2015-03-01                   57146          41921   \n",
       "                2015-04-01                   67353          50715   \n",
       "                2015-05-01                   69072          49787   \n",
       "\n",
       "                                  num_comments  num_shares  num_likes  \\\n",
       "page_id         status_published                                        \n",
       "100434040001314 2015-01-01                3665        7941      29593   \n",
       "                2015-02-01                3873        7824      30672   \n",
       "                2015-03-01                4773       10452      41921   \n",
       "                2015-04-01                5116       11522      50715   \n",
       "                2015-05-01                5682       13603      49787   \n",
       "\n",
       "                                  num_loves  num_wows  num_hahas  num_sads  \\\n",
       "page_id         status_published                                             \n",
       "100434040001314 2015-01-01                0         0          0         0   \n",
       "                2015-02-01                0         0          0         0   \n",
       "                2015-03-01                0         0          0         0   \n",
       "                2015-04-01                0         0          0         0   \n",
       "                2015-05-01                0         0          0         0   \n",
       "\n",
       "                                  num_angrys  post_count  \n",
       "page_id         status_published                          \n",
       "100434040001314 2015-01-01                 0         321  \n",
       "                2015-02-01                 0         346  \n",
       "                2015-03-01                 0         388  \n",
       "                2015-04-01                 0         455  \n",
       "                2015-05-01                 0         441  "
      ]
     },
     "execution_count": 24,
     "metadata": {},
     "output_type": "execute_result"
    }
   ],
   "source": [
    "monthly_totals = aggregate_pages_by_time(statuses, \"MS\").astype(int)\n",
    "monthly_totals.head()"
   ]
  },
  {
   "cell_type": "code",
   "execution_count": 25,
   "metadata": {
    "collapsed": true
   },
   "outputs": [],
   "source": [
    "monthly_totals.to_csv(\"../output/page-engagement-by-month.csv\")"
   ]
  },
  {
   "cell_type": "markdown",
   "metadata": {},
   "source": [
    "## Get top 100 posts by week and partisanship"
   ]
  },
  {
   "cell_type": "code",
   "execution_count": 26,
   "metadata": {
    "collapsed": true
   },
   "outputs": [],
   "source": [
    "def get_top_100_posts_total_engagement(df):\n",
    "    top = df.nlargest(100, \"total_engagement\")\n",
    "    page_counts = top[\"page_id\"].value_counts()\n",
    "    total_engagement = top[\"total_engagement\"].sum()\n",
    "    return pd.Series({\n",
    "        \"num_posts\": len(top),\n",
    "        \"total_engagement\": total_engagement,\n",
    "        \"max_engagement\": top[\"total_engagement\"].max(),\n",
    "        \"min_engagement\": top[\"total_engagement\"].min(),\n",
    "        \"distinct_pages\": len(page_counts),\n",
    "        \"top_page_count\": page_counts.iloc[0],\n",
    "        \"top_page_prop_engagement\": top.groupby(\"page_id\")[\"total_engagement\"].sum().max()\\\n",
    "            / total_engagement,\n",
    "    })"
   ]
  },
  {
   "cell_type": "code",
   "execution_count": 27,
   "metadata": {},
   "outputs": [
    {
     "data": {
      "text/html": [
       "<div>\n",
       "<style>\n",
       "    .dataframe thead tr:only-child th {\n",
       "        text-align: right;\n",
       "    }\n",
       "\n",
       "    .dataframe thead th {\n",
       "        text-align: left;\n",
       "    }\n",
       "\n",
       "    .dataframe tbody tr th {\n",
       "        vertical-align: top;\n",
       "    }\n",
       "</style>\n",
       "<table border=\"1\" class=\"dataframe\">\n",
       "  <thead>\n",
       "    <tr>\n",
       "      <th></th>\n",
       "      <th colspan=\"2\" halign=\"left\">distinct_pages</th>\n",
       "      <th colspan=\"2\" halign=\"left\">max_engagement</th>\n",
       "      <th colspan=\"2\" halign=\"left\">min_engagement</th>\n",
       "      <th colspan=\"2\" halign=\"left\">num_posts</th>\n",
       "      <th colspan=\"2\" halign=\"left\">top_page_count</th>\n",
       "      <th colspan=\"2\" halign=\"left\">top_page_prop_engagement</th>\n",
       "      <th colspan=\"2\" halign=\"left\">total_engagement</th>\n",
       "    </tr>\n",
       "    <tr>\n",
       "      <th>political_category</th>\n",
       "      <th>left</th>\n",
       "      <th>right</th>\n",
       "      <th>left</th>\n",
       "      <th>right</th>\n",
       "      <th>left</th>\n",
       "      <th>right</th>\n",
       "      <th>left</th>\n",
       "      <th>right</th>\n",
       "      <th>left</th>\n",
       "      <th>right</th>\n",
       "      <th>left</th>\n",
       "      <th>right</th>\n",
       "      <th>left</th>\n",
       "      <th>right</th>\n",
       "    </tr>\n",
       "    <tr>\n",
       "      <th>status_published</th>\n",
       "      <th></th>\n",
       "      <th></th>\n",
       "      <th></th>\n",
       "      <th></th>\n",
       "      <th></th>\n",
       "      <th></th>\n",
       "      <th></th>\n",
       "      <th></th>\n",
       "      <th></th>\n",
       "      <th></th>\n",
       "      <th></th>\n",
       "      <th></th>\n",
       "      <th></th>\n",
       "      <th></th>\n",
       "    </tr>\n",
       "  </thead>\n",
       "  <tbody>\n",
       "    <tr>\n",
       "      <th>2014-12-28</th>\n",
       "      <td>21.0</td>\n",
       "      <td>22.0</td>\n",
       "      <td>655862.0</td>\n",
       "      <td>1608308.0</td>\n",
       "      <td>8365.0</td>\n",
       "      <td>21088.0</td>\n",
       "      <td>100.0</td>\n",
       "      <td>100.0</td>\n",
       "      <td>16.0</td>\n",
       "      <td>22.0</td>\n",
       "      <td>0.337049</td>\n",
       "      <td>0.249237</td>\n",
       "      <td>2735721.0</td>\n",
       "      <td>6669197.0</td>\n",
       "    </tr>\n",
       "    <tr>\n",
       "      <th>2015-01-04</th>\n",
       "      <td>23.0</td>\n",
       "      <td>21.0</td>\n",
       "      <td>219835.0</td>\n",
       "      <td>598736.0</td>\n",
       "      <td>15625.0</td>\n",
       "      <td>42047.0</td>\n",
       "      <td>100.0</td>\n",
       "      <td>100.0</td>\n",
       "      <td>15.0</td>\n",
       "      <td>24.0</td>\n",
       "      <td>0.221724</td>\n",
       "      <td>0.274383</td>\n",
       "      <td>3073663.0</td>\n",
       "      <td>10325893.0</td>\n",
       "    </tr>\n",
       "    <tr>\n",
       "      <th>2015-01-11</th>\n",
       "      <td>20.0</td>\n",
       "      <td>19.0</td>\n",
       "      <td>359320.0</td>\n",
       "      <td>1828325.0</td>\n",
       "      <td>15091.0</td>\n",
       "      <td>48988.0</td>\n",
       "      <td>100.0</td>\n",
       "      <td>100.0</td>\n",
       "      <td>21.0</td>\n",
       "      <td>27.0</td>\n",
       "      <td>0.221967</td>\n",
       "      <td>0.293881</td>\n",
       "      <td>4198339.0</td>\n",
       "      <td>14309438.0</td>\n",
       "    </tr>\n",
       "    <tr>\n",
       "      <th>2015-01-18</th>\n",
       "      <td>21.0</td>\n",
       "      <td>21.0</td>\n",
       "      <td>581405.0</td>\n",
       "      <td>1744063.0</td>\n",
       "      <td>17212.0</td>\n",
       "      <td>46629.0</td>\n",
       "      <td>100.0</td>\n",
       "      <td>100.0</td>\n",
       "      <td>15.0</td>\n",
       "      <td>29.0</td>\n",
       "      <td>0.201163</td>\n",
       "      <td>0.441159</td>\n",
       "      <td>4220414.0</td>\n",
       "      <td>14749326.0</td>\n",
       "    </tr>\n",
       "    <tr>\n",
       "      <th>2015-01-25</th>\n",
       "      <td>17.0</td>\n",
       "      <td>20.0</td>\n",
       "      <td>172044.0</td>\n",
       "      <td>1749288.0</td>\n",
       "      <td>14531.0</td>\n",
       "      <td>38044.0</td>\n",
       "      <td>100.0</td>\n",
       "      <td>100.0</td>\n",
       "      <td>19.0</td>\n",
       "      <td>25.0</td>\n",
       "      <td>0.280049</td>\n",
       "      <td>0.225935</td>\n",
       "      <td>2950189.0</td>\n",
       "      <td>9383113.0</td>\n",
       "    </tr>\n",
       "  </tbody>\n",
       "</table>\n",
       "</div>"
      ],
      "text/plain": [
       "                   distinct_pages       max_engagement             \\\n",
       "political_category           left right           left      right   \n",
       "status_published                                                    \n",
       "2014-12-28                   21.0  22.0       655862.0  1608308.0   \n",
       "2015-01-04                   23.0  21.0       219835.0   598736.0   \n",
       "2015-01-11                   20.0  19.0       359320.0  1828325.0   \n",
       "2015-01-18                   21.0  21.0       581405.0  1744063.0   \n",
       "2015-01-25                   17.0  20.0       172044.0  1749288.0   \n",
       "\n",
       "                   min_engagement          num_posts        top_page_count  \\\n",
       "political_category           left    right      left  right           left   \n",
       "status_published                                                             \n",
       "2014-12-28                 8365.0  21088.0     100.0  100.0           16.0   \n",
       "2015-01-04                15625.0  42047.0     100.0  100.0           15.0   \n",
       "2015-01-11                15091.0  48988.0     100.0  100.0           21.0   \n",
       "2015-01-18                17212.0  46629.0     100.0  100.0           15.0   \n",
       "2015-01-25                14531.0  38044.0     100.0  100.0           19.0   \n",
       "\n",
       "                         top_page_prop_engagement           total_engagement  \\\n",
       "political_category right                     left     right             left   \n",
       "status_published                                                               \n",
       "2014-12-28          22.0                 0.337049  0.249237        2735721.0   \n",
       "2015-01-04          24.0                 0.221724  0.274383        3073663.0   \n",
       "2015-01-11          27.0                 0.221967  0.293881        4198339.0   \n",
       "2015-01-18          29.0                 0.201163  0.441159        4220414.0   \n",
       "2015-01-25          25.0                 0.280049  0.225935        2950189.0   \n",
       "\n",
       "                                \n",
       "political_category       right  \n",
       "status_published                \n",
       "2014-12-28           6669197.0  \n",
       "2015-01-04          10325893.0  \n",
       "2015-01-11          14309438.0  \n",
       "2015-01-18          14749326.0  \n",
       "2015-01-25           9383113.0  "
      ]
     },
     "execution_count": 27,
     "metadata": {},
     "output_type": "execute_result"
    }
   ],
   "source": [
    "weekly_top_posts_by_partisanship = statuses.groupby([\n",
    "    pd.Grouper(\n",
    "        key=\"status_published\",\n",
    "        freq=\"W-SUN\",\n",
    "        closed=\"left\",\n",
    "        label=\"left\"\n",
    "    ),\n",
    "    \"political_category\",\n",
    "]).apply(get_top_100_posts_total_engagement).unstack()\n",
    "\n",
    "weekly_top_posts_by_partisanship.head()"
   ]
  },
  {
   "cell_type": "code",
   "execution_count": 28,
   "metadata": {},
   "outputs": [
    {
     "data": {
      "text/html": [
       "<div>\n",
       "<style>\n",
       "    .dataframe thead tr:only-child th {\n",
       "        text-align: right;\n",
       "    }\n",
       "\n",
       "    .dataframe thead th {\n",
       "        text-align: left;\n",
       "    }\n",
       "\n",
       "    .dataframe tbody tr th {\n",
       "        vertical-align: top;\n",
       "    }\n",
       "</style>\n",
       "<table border=\"1\" class=\"dataframe\">\n",
       "  <thead>\n",
       "    <tr>\n",
       "      <th></th>\n",
       "      <th colspan=\"2\" halign=\"left\">distinct_pages</th>\n",
       "      <th colspan=\"2\" halign=\"left\">top_page_count</th>\n",
       "      <th colspan=\"2\" halign=\"left\">top_page_prop_engagement</th>\n",
       "      <th colspan=\"2\" halign=\"left\">min_engagement</th>\n",
       "    </tr>\n",
       "    <tr>\n",
       "      <th>political_category</th>\n",
       "      <th>left</th>\n",
       "      <th>right</th>\n",
       "      <th>left</th>\n",
       "      <th>right</th>\n",
       "      <th>left</th>\n",
       "      <th>right</th>\n",
       "      <th>left</th>\n",
       "      <th>right</th>\n",
       "    </tr>\n",
       "  </thead>\n",
       "  <tbody>\n",
       "    <tr>\n",
       "      <th>count</th>\n",
       "      <td>118.000000</td>\n",
       "      <td>118.000000</td>\n",
       "      <td>118.000000</td>\n",
       "      <td>118.000000</td>\n",
       "      <td>118.000000</td>\n",
       "      <td>118.000000</td>\n",
       "      <td>118.000000</td>\n",
       "      <td>118.000000</td>\n",
       "    </tr>\n",
       "    <tr>\n",
       "      <th>mean</th>\n",
       "      <td>14.983051</td>\n",
       "      <td>23.686441</td>\n",
       "      <td>40.279661</td>\n",
       "      <td>26.906780</td>\n",
       "      <td>0.398698</td>\n",
       "      <td>0.284040</td>\n",
       "      <td>38809.177966</td>\n",
       "      <td>57408.440678</td>\n",
       "    </tr>\n",
       "    <tr>\n",
       "      <th>std</th>\n",
       "      <td>3.343531</td>\n",
       "      <td>4.962594</td>\n",
       "      <td>11.742163</td>\n",
       "      <td>6.292021</td>\n",
       "      <td>0.103203</td>\n",
       "      <td>0.077730</td>\n",
       "      <td>19829.731583</td>\n",
       "      <td>16763.954391</td>\n",
       "    </tr>\n",
       "    <tr>\n",
       "      <th>min</th>\n",
       "      <td>9.000000</td>\n",
       "      <td>12.000000</td>\n",
       "      <td>15.000000</td>\n",
       "      <td>16.000000</td>\n",
       "      <td>0.201163</td>\n",
       "      <td>0.156508</td>\n",
       "      <td>8365.000000</td>\n",
       "      <td>21088.000000</td>\n",
       "    </tr>\n",
       "    <tr>\n",
       "      <th>25%</th>\n",
       "      <td>12.000000</td>\n",
       "      <td>20.000000</td>\n",
       "      <td>33.250000</td>\n",
       "      <td>22.000000</td>\n",
       "      <td>0.319790</td>\n",
       "      <td>0.225949</td>\n",
       "      <td>23556.250000</td>\n",
       "      <td>46300.500000</td>\n",
       "    </tr>\n",
       "    <tr>\n",
       "      <th>50%</th>\n",
       "      <td>15.000000</td>\n",
       "      <td>24.000000</td>\n",
       "      <td>41.500000</td>\n",
       "      <td>26.000000</td>\n",
       "      <td>0.400200</td>\n",
       "      <td>0.271161</td>\n",
       "      <td>38478.000000</td>\n",
       "      <td>53257.500000</td>\n",
       "    </tr>\n",
       "    <tr>\n",
       "      <th>75%</th>\n",
       "      <td>17.000000</td>\n",
       "      <td>27.000000</td>\n",
       "      <td>47.750000</td>\n",
       "      <td>30.750000</td>\n",
       "      <td>0.468442</td>\n",
       "      <td>0.336963</td>\n",
       "      <td>48094.500000</td>\n",
       "      <td>63175.500000</td>\n",
       "    </tr>\n",
       "    <tr>\n",
       "      <th>max</th>\n",
       "      <td>23.000000</td>\n",
       "      <td>34.000000</td>\n",
       "      <td>64.000000</td>\n",
       "      <td>46.000000</td>\n",
       "      <td>0.687477</td>\n",
       "      <td>0.481636</td>\n",
       "      <td>101720.000000</td>\n",
       "      <td>145990.000000</td>\n",
       "    </tr>\n",
       "  </tbody>\n",
       "</table>\n",
       "</div>"
      ],
      "text/plain": [
       "                   distinct_pages             top_page_count              \\\n",
       "political_category           left       right           left       right   \n",
       "count                  118.000000  118.000000     118.000000  118.000000   \n",
       "mean                    14.983051   23.686441      40.279661   26.906780   \n",
       "std                      3.343531    4.962594      11.742163    6.292021   \n",
       "min                      9.000000   12.000000      15.000000   16.000000   \n",
       "25%                     12.000000   20.000000      33.250000   22.000000   \n",
       "50%                     15.000000   24.000000      41.500000   26.000000   \n",
       "75%                     17.000000   27.000000      47.750000   30.750000   \n",
       "max                     23.000000   34.000000      64.000000   46.000000   \n",
       "\n",
       "                   top_page_prop_engagement             min_engagement  \\\n",
       "political_category                     left       right           left   \n",
       "count                            118.000000  118.000000     118.000000   \n",
       "mean                               0.398698    0.284040   38809.177966   \n",
       "std                                0.103203    0.077730   19829.731583   \n",
       "min                                0.201163    0.156508    8365.000000   \n",
       "25%                                0.319790    0.225949   23556.250000   \n",
       "50%                                0.400200    0.271161   38478.000000   \n",
       "75%                                0.468442    0.336963   48094.500000   \n",
       "max                                0.687477    0.481636  101720.000000   \n",
       "\n",
       "                                   \n",
       "political_category          right  \n",
       "count                  118.000000  \n",
       "mean                 57408.440678  \n",
       "std                  16763.954391  \n",
       "min                  21088.000000  \n",
       "25%                  46300.500000  \n",
       "50%                  53257.500000  \n",
       "75%                  63175.500000  \n",
       "max                 145990.000000  "
      ]
     },
     "execution_count": 28,
     "metadata": {},
     "output_type": "execute_result"
    }
   ],
   "source": [
    "weekly_top_posts_by_partisanship[[\n",
    "    \"distinct_pages\",\n",
    "    \"top_page_count\",\n",
    "    \"top_page_prop_engagement\",\n",
    "    \"min_engagement\"\n",
    "]].describe()"
   ]
  },
  {
   "cell_type": "code",
   "execution_count": 29,
   "metadata": {
    "collapsed": true
   },
   "outputs": [],
   "source": [
    "# Make sure that we have at least 100 posts per week for both left/right\n",
    "assert (weekly_top_posts_by_partisanship[\"num_posts\"] < 100).sum().sum() == 0"
   ]
  },
  {
   "cell_type": "code",
   "execution_count": 30,
   "metadata": {
    "collapsed": true
   },
   "outputs": [],
   "source": [
    "weekly_top_posts_by_partisanship[\"total_engagement\"]\\\n",
    "    .astype(int)\\\n",
    "    .to_csv(\"../output/top-100-posts-total-engagement-by-week-and-partisanship.csv\")"
   ]
  },
  {
   "cell_type": "markdown",
   "metadata": {
    "collapsed": true
   },
   "source": [
    "## Get top 50 posts, overall, by post type\n"
   ]
  },
  {
   "cell_type": "code",
   "execution_count": 31,
   "metadata": {
    "collapsed": true
   },
   "outputs": [],
   "source": [
    "def get_top(df, num):\n",
    "    return df.sort_values([\n",
    "        \"total_engagement\",\n",
    "        \"status_id\"\n",
    "    ], ascending=False).head(num)"
   ]
  },
  {
   "cell_type": "code",
   "execution_count": 32,
   "metadata": {},
   "outputs": [
    {
     "name": "stdout",
     "output_type": "stream",
     "text": [
      "event\n",
      "link\n",
      "music\n",
      "note\n",
      "offer\n",
      "photo\n",
      "status\n",
      "video\n"
     ]
    }
   ],
   "source": [
    "for status_type, group in statuses.groupby([ \"status_type\" ]):\n",
    "    print(status_type)\n",
    "    get_top(group, 50).to_csv(\n",
    "        \"../output/top-50-posts-{}.csv\".format(status_type),\n",
    "        index=False\n",
    "    )"
   ]
  },
  {
   "cell_type": "markdown",
   "metadata": {},
   "source": [
    "### ... and among all posts"
   ]
  },
  {
   "cell_type": "code",
   "execution_count": 33,
   "metadata": {
    "collapsed": true
   },
   "outputs": [],
   "source": [
    "get_top(statuses, 50).to_csv(\"../output/top-50-posts-all.csv\", index=False)"
   ]
  },
  {
   "cell_type": "markdown",
   "metadata": {
    "collapsed": true
   },
   "source": [
    "---\n",
    "\n",
    "---\n",
    "\n",
    "---"
   ]
  }
 ],
 "metadata": {
  "kernelspec": {
   "display_name": "Python 3",
   "language": "python",
   "name": "python3"
  },
  "language_info": {
   "codemirror_mode": {
    "name": "ipython",
    "version": 3
   },
   "file_extension": ".py",
   "mimetype": "text/x-python",
   "name": "python",
   "nbconvert_exporter": "python",
   "pygments_lexer": "ipython3",
   "version": "3.4.3"
  },
  "notify_time": "10"
 },
 "nbformat": 4,
 "nbformat_minor": 2
}
