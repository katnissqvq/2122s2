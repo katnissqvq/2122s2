{
 "cells": [
  {
   "cell_type": "markdown",
   "metadata": {},
   "source": [
    "# Analysis of sites' WHOIS registration dates\n",
    "\n",
    "The notebook below collects and analyzes the registration dates of the website domains for this project's list of sites.\n",
    "\n",
    "The first section standardizes the site URLs to generate a list of unique domains, excluding domains belonging to blogging platforms.\n",
    "\n",
    "The second section aggregates the WHOIS data for those domains by year, month, and political affiliation."
   ]
  },
  {
   "cell_type": "code",
   "execution_count": 1,
   "metadata": {
    "collapsed": true
   },
   "outputs": [],
   "source": [
    "import pandas as pd\n",
    "import re"
   ]
  },
  {
   "cell_type": "markdown",
   "metadata": {},
   "source": [
    "## Creating the list of domains"
   ]
  },
  {
   "cell_type": "markdown",
   "metadata": {},
   "source": [
    "### Loading the sites and converting URLs to domains"
   ]
  },
  {
   "cell_type": "code",
   "execution_count": 2,
   "metadata": {
    "collapsed": true
   },
   "outputs": [],
   "source": [
    "def site_to_domain(site):\n",
    "    if pd.isnull(site): return None\n",
    "    if re.match(r\"^http\", site):\n",
    "        site = re.search(\"https?://([^/]+)\", site).group(1)\n",
    "    site = re.sub(r\"/.*$\", \"\", site)\n",
    "    return \".\".join(site.split(\".\")[-2:]).lower()"
   ]
  },
  {
   "cell_type": "code",
   "execution_count": 3,
   "metadata": {},
   "outputs": [
    {
     "data": {
      "text/plain": [
       "665"
      ]
     },
     "execution_count": 3,
     "metadata": {},
     "output_type": "execute_result"
    }
   ],
   "source": [
    "all_sites = pd.read_csv(\"../data/all-partisan-sites.csv\")\n",
    "all_sites[\"site\"] = all_sites[\"site\"].str.strip().str.lower()\n",
    "all_sites[\"domain\"] = all_sites[\"site\"].apply(site_to_domain)\n",
    "all_domains = all_sites[\"domain\"].dropna().unique()\n",
    "len(all_domains)"
   ]
  },
  {
   "cell_type": "markdown",
   "metadata": {},
   "source": [
    "### Ignoring three domains from the list that belong to blogging platforms"
   ]
  },
  {
   "cell_type": "code",
   "execution_count": 4,
   "metadata": {
    "collapsed": true
   },
   "outputs": [],
   "source": [
    "DOMAINS_TO_IGNORE = [\n",
    "    \"blogspot.com\",\n",
    "    \"blogspot.ca\",\n",
    "    \"wordpress.com\",\n",
    "]"
   ]
  },
  {
   "cell_type": "code",
   "execution_count": 5,
   "metadata": {},
   "outputs": [
    {
     "data": {
      "text/html": [
       "<div>\n",
       "<style>\n",
       "    .dataframe thead tr:only-child th {\n",
       "        text-align: right;\n",
       "    }\n",
       "\n",
       "    .dataframe thead th {\n",
       "        text-align: left;\n",
       "    }\n",
       "\n",
       "    .dataframe tbody tr th {\n",
       "        vertical-align: top;\n",
       "    }\n",
       "</style>\n",
       "<table border=\"1\" class=\"dataframe\">\n",
       "  <thead>\n",
       "    <tr style=\"text-align: right;\">\n",
       "      <th></th>\n",
       "      <th>site</th>\n",
       "      <th>domain</th>\n",
       "      <th>political_category</th>\n",
       "    </tr>\n",
       "  </thead>\n",
       "  <tbody>\n",
       "    <tr>\n",
       "      <th>4</th>\n",
       "      <td>4threvolutionarywar.wordpress.com</td>\n",
       "      <td>wordpress.com</td>\n",
       "      <td>left</td>\n",
       "    </tr>\n",
       "    <tr>\n",
       "      <th>144</th>\n",
       "      <td>counterinformation.wordpress.com</td>\n",
       "      <td>wordpress.com</td>\n",
       "      <td>left</td>\n",
       "    </tr>\n",
       "    <tr>\n",
       "      <th>362</th>\n",
       "      <td>newzeal.blogspot.com</td>\n",
       "      <td>blogspot.com</td>\n",
       "      <td>right</td>\n",
       "    </tr>\n",
       "    <tr>\n",
       "      <th>492</th>\n",
       "      <td>sharpelbowsstl.blogspot.ca</td>\n",
       "      <td>blogspot.ca</td>\n",
       "      <td>right</td>\n",
       "    </tr>\n",
       "    <tr>\n",
       "      <th>534</th>\n",
       "      <td>theimmoralminority.blogspot.ca</td>\n",
       "      <td>blogspot.ca</td>\n",
       "      <td>left</td>\n",
       "    </tr>\n",
       "  </tbody>\n",
       "</table>\n",
       "</div>"
      ],
      "text/plain": [
       "                                  site         domain political_category\n",
       "4    4threvolutionarywar.wordpress.com  wordpress.com               left\n",
       "144   counterinformation.wordpress.com  wordpress.com               left\n",
       "362               newzeal.blogspot.com   blogspot.com              right\n",
       "492         sharpelbowsstl.blogspot.ca    blogspot.ca              right\n",
       "534     theimmoralminority.blogspot.ca    blogspot.ca               left"
      ]
     },
     "execution_count": 5,
     "metadata": {},
     "output_type": "execute_result"
    }
   ],
   "source": [
    "all_sites[\n",
    "    all_sites[\"domain\"].isin(DOMAINS_TO_IGNORE)\n",
    "][[ \"site\", \"domain\", \"political_category\" ]]"
   ]
  },
  {
   "cell_type": "markdown",
   "metadata": {},
   "source": [
    "### Generating a list of unique domains"
   ]
  },
  {
   "cell_type": "code",
   "execution_count": 6,
   "metadata": {},
   "outputs": [
    {
     "data": {
      "text/plain": [
       "['100percentfedup.com',\n",
       " '21stcenturywire.com',\n",
       " '24dailynew.com',\n",
       " '24usnews.com',\n",
       " '63red.com']"
      ]
     },
     "execution_count": 6,
     "metadata": {},
     "output_type": "execute_result"
    }
   ],
   "source": [
    "unique_domains = list(sorted(set(all_domains) - set(DOMAINS_TO_IGNORE)))\n",
    "unique_domains[:5]"
   ]
  },
  {
   "cell_type": "code",
   "execution_count": 7,
   "metadata": {
    "collapsed": true
   },
   "outputs": [],
   "source": [
    "with open(\"../output/unique-domains.txt\", \"w\") as f:\n",
    "    f.write(\"\\n\".join(unique_domains))"
   ]
  },
  {
   "cell_type": "markdown",
   "metadata": {},
   "source": [
    "## Fetching WHOIS data for the domains\n",
    "\n",
    "The domains above were then submitted to DomainTools' [Bulk Parsed Whois service](https://research.domaintools.com/bulk-parsed-whois/), which produced the file at [`data/domaintools-whois-results.csv`](../data/domaintools-whois-results.csv)."
   ]
  },
  {
   "cell_type": "markdown",
   "metadata": {},
   "source": [
    "## Analyzing the domain registration dates"
   ]
  },
  {
   "cell_type": "markdown",
   "metadata": {},
   "source": [
    "The main columns of interest in the WHOIS data are the domain and the WHOIS registration date:"
   ]
  },
  {
   "cell_type": "code",
   "execution_count": 8,
   "metadata": {},
   "outputs": [
    {
     "data": {
      "text/html": [
       "<div>\n",
       "<style>\n",
       "    .dataframe thead tr:only-child th {\n",
       "        text-align: right;\n",
       "    }\n",
       "\n",
       "    .dataframe thead th {\n",
       "        text-align: left;\n",
       "    }\n",
       "\n",
       "    .dataframe tbody tr th {\n",
       "        vertical-align: top;\n",
       "    }\n",
       "</style>\n",
       "<table border=\"1\" class=\"dataframe\">\n",
       "  <thead>\n",
       "    <tr style=\"text-align: right;\">\n",
       "      <th></th>\n",
       "      <th>domain</th>\n",
       "      <th>date_registered</th>\n",
       "    </tr>\n",
       "  </thead>\n",
       "  <tbody>\n",
       "    <tr>\n",
       "      <th>0</th>\n",
       "      <td>100percentfedup.com</td>\n",
       "      <td>2012-03-13</td>\n",
       "    </tr>\n",
       "    <tr>\n",
       "      <th>1</th>\n",
       "      <td>21stcenturywire.com</td>\n",
       "      <td>2009-11-03</td>\n",
       "    </tr>\n",
       "    <tr>\n",
       "      <th>2</th>\n",
       "      <td>24dailynew.com</td>\n",
       "      <td>2017-02-21</td>\n",
       "    </tr>\n",
       "    <tr>\n",
       "      <th>3</th>\n",
       "      <td>24usnews.com</td>\n",
       "      <td>2016-07-03</td>\n",
       "    </tr>\n",
       "    <tr>\n",
       "      <th>4</th>\n",
       "      <td>63red.com</td>\n",
       "      <td>2011-12-05</td>\n",
       "    </tr>\n",
       "  </tbody>\n",
       "</table>\n",
       "</div>"
      ],
      "text/plain": [
       "                domain date_registered\n",
       "0  100percentfedup.com      2012-03-13\n",
       "1  21stcenturywire.com      2009-11-03\n",
       "2       24dailynew.com      2017-02-21\n",
       "3         24usnews.com      2016-07-03\n",
       "4            63red.com      2011-12-05"
      ]
     },
     "execution_count": 8,
     "metadata": {},
     "output_type": "execute_result"
    }
   ],
   "source": [
    "whois = pd.read_csv(\"../data/domaintools-whois-results.csv\", parse_dates=[ \"create date\" ])\\\n",
    "    .rename(columns={\n",
    "        \"create date\": \"date_registered\"\n",
    "    })\n",
    "whois.head()[[ \"domain\", \"date_registered\" ]]"
   ]
  },
  {
   "cell_type": "markdown",
   "metadata": {},
   "source": [
    "### Merging the WHOIS data with the manually-collected political affiliations"
   ]
  },
  {
   "cell_type": "code",
   "execution_count": 9,
   "metadata": {},
   "outputs": [
    {
     "data": {
      "text/html": [
       "<div>\n",
       "<style>\n",
       "    .dataframe thead tr:only-child th {\n",
       "        text-align: right;\n",
       "    }\n",
       "\n",
       "    .dataframe thead th {\n",
       "        text-align: left;\n",
       "    }\n",
       "\n",
       "    .dataframe tbody tr th {\n",
       "        vertical-align: top;\n",
       "    }\n",
       "</style>\n",
       "<table border=\"1\" class=\"dataframe\">\n",
       "  <thead>\n",
       "    <tr style=\"text-align: right;\">\n",
       "      <th></th>\n",
       "      <th>site</th>\n",
       "      <th>domain</th>\n",
       "      <th>political_category</th>\n",
       "      <th>date_registered</th>\n",
       "      <th>year_registered</th>\n",
       "      <th>month_registered</th>\n",
       "    </tr>\n",
       "  </thead>\n",
       "  <tbody>\n",
       "    <tr>\n",
       "      <th>4</th>\n",
       "      <td>4threvolutionarywar.wordpress.com</td>\n",
       "      <td>wordpress.com</td>\n",
       "      <td>left</td>\n",
       "      <td>NaN</td>\n",
       "      <td>NaN</td>\n",
       "      <td>NaN</td>\n",
       "    </tr>\n",
       "    <tr>\n",
       "      <th>144</th>\n",
       "      <td>counterinformation.wordpress.com</td>\n",
       "      <td>wordpress.com</td>\n",
       "      <td>left</td>\n",
       "      <td>NaN</td>\n",
       "      <td>NaN</td>\n",
       "      <td>NaN</td>\n",
       "    </tr>\n",
       "    <tr>\n",
       "      <th>362</th>\n",
       "      <td>newzeal.blogspot.com</td>\n",
       "      <td>blogspot.com</td>\n",
       "      <td>right</td>\n",
       "      <td>NaN</td>\n",
       "      <td>NaN</td>\n",
       "      <td>NaN</td>\n",
       "    </tr>\n",
       "    <tr>\n",
       "      <th>492</th>\n",
       "      <td>sharpelbowsstl.blogspot.ca</td>\n",
       "      <td>blogspot.ca</td>\n",
       "      <td>right</td>\n",
       "      <td>NaN</td>\n",
       "      <td>NaN</td>\n",
       "      <td>NaN</td>\n",
       "    </tr>\n",
       "    <tr>\n",
       "      <th>534</th>\n",
       "      <td>theimmoralminority.blogspot.ca</td>\n",
       "      <td>blogspot.ca</td>\n",
       "      <td>left</td>\n",
       "      <td>NaN</td>\n",
       "      <td>NaN</td>\n",
       "      <td>NaN</td>\n",
       "    </tr>\n",
       "  </tbody>\n",
       "</table>\n",
       "</div>"
      ],
      "text/plain": [
       "                                  site         domain political_category  \\\n",
       "4    4threvolutionarywar.wordpress.com  wordpress.com               left   \n",
       "144   counterinformation.wordpress.com  wordpress.com               left   \n",
       "362               newzeal.blogspot.com   blogspot.com              right   \n",
       "492         sharpelbowsstl.blogspot.ca    blogspot.ca              right   \n",
       "534     theimmoralminority.blogspot.ca    blogspot.ca               left   \n",
       "\n",
       "    date_registered year_registered month_registered  \n",
       "4               NaN             NaN              NaN  \n",
       "144             NaN             NaN              NaN  \n",
       "362             NaN             NaN              NaN  \n",
       "492             NaN             NaN              NaN  \n",
       "534             NaN             NaN              NaN  "
      ]
     },
     "execution_count": 9,
     "metadata": {},
     "output_type": "execute_result"
    }
   ],
   "source": [
    "registration_dates = pd.merge(\n",
    "    all_sites[[ \"site\", \"domain\", \"political_category\" ]],\n",
    "    whois[[ \"domain\", \"date_registered\" ]],\n",
    "    on=\"domain\",\n",
    "    how=\"left\"\n",
    ").drop_duplicates(subset=[\"site\"])\\\n",
    "    .sort_values([ \"date_registered\", \"site\" ])\n",
    "\n",
    "registration_dates[\"year_registered\"] = registration_dates[\"date_registered\"].dt.strftime(\"%Y\")\n",
    "registration_dates[\"month_registered\"] = registration_dates[\"date_registered\"].dt.strftime(\"%Y-%m\")\n",
    "registration_dates[\"date_registered\"] = registration_dates[\"date_registered\"].dt.strftime(\"%Y-%m-%d\")\n",
    "\n",
    "registration_dates = registration_dates.replace(\"NaT\", pd.np.nan)\n",
    "\n",
    "registration_dates.head()"
   ]
  },
  {
   "cell_type": "code",
   "execution_count": 10,
   "metadata": {
    "collapsed": true
   },
   "outputs": [],
   "source": [
    "registration_dates.to_csv(\"../output/whois-registration-dates.csv\", index=False)"
   ]
  },
  {
   "cell_type": "markdown",
   "metadata": {},
   "source": [
    "### Checking for sites for which we don't have WHOIS registration dates\n",
    "\n",
    "Good sign: They are only those for which we have, above, explictly excluded the domains."
   ]
  },
  {
   "cell_type": "code",
   "execution_count": 11,
   "metadata": {},
   "outputs": [
    {
     "data": {
      "text/html": [
       "<div>\n",
       "<style>\n",
       "    .dataframe thead tr:only-child th {\n",
       "        text-align: right;\n",
       "    }\n",
       "\n",
       "    .dataframe thead th {\n",
       "        text-align: left;\n",
       "    }\n",
       "\n",
       "    .dataframe tbody tr th {\n",
       "        vertical-align: top;\n",
       "    }\n",
       "</style>\n",
       "<table border=\"1\" class=\"dataframe\">\n",
       "  <thead>\n",
       "    <tr style=\"text-align: right;\">\n",
       "      <th></th>\n",
       "      <th>site</th>\n",
       "      <th>domain</th>\n",
       "      <th>political_category</th>\n",
       "      <th>date_registered</th>\n",
       "      <th>year_registered</th>\n",
       "      <th>month_registered</th>\n",
       "    </tr>\n",
       "  </thead>\n",
       "  <tbody>\n",
       "    <tr>\n",
       "      <th>4</th>\n",
       "      <td>4threvolutionarywar.wordpress.com</td>\n",
       "      <td>wordpress.com</td>\n",
       "      <td>left</td>\n",
       "      <td>NaN</td>\n",
       "      <td>NaN</td>\n",
       "      <td>NaN</td>\n",
       "    </tr>\n",
       "    <tr>\n",
       "      <th>144</th>\n",
       "      <td>counterinformation.wordpress.com</td>\n",
       "      <td>wordpress.com</td>\n",
       "      <td>left</td>\n",
       "      <td>NaN</td>\n",
       "      <td>NaN</td>\n",
       "      <td>NaN</td>\n",
       "    </tr>\n",
       "    <tr>\n",
       "      <th>362</th>\n",
       "      <td>newzeal.blogspot.com</td>\n",
       "      <td>blogspot.com</td>\n",
       "      <td>right</td>\n",
       "      <td>NaN</td>\n",
       "      <td>NaN</td>\n",
       "      <td>NaN</td>\n",
       "    </tr>\n",
       "    <tr>\n",
       "      <th>492</th>\n",
       "      <td>sharpelbowsstl.blogspot.ca</td>\n",
       "      <td>blogspot.ca</td>\n",
       "      <td>right</td>\n",
       "      <td>NaN</td>\n",
       "      <td>NaN</td>\n",
       "      <td>NaN</td>\n",
       "    </tr>\n",
       "    <tr>\n",
       "      <th>534</th>\n",
       "      <td>theimmoralminority.blogspot.ca</td>\n",
       "      <td>blogspot.ca</td>\n",
       "      <td>left</td>\n",
       "      <td>NaN</td>\n",
       "      <td>NaN</td>\n",
       "      <td>NaN</td>\n",
       "    </tr>\n",
       "  </tbody>\n",
       "</table>\n",
       "</div>"
      ],
      "text/plain": [
       "                                  site         domain political_category  \\\n",
       "4    4threvolutionarywar.wordpress.com  wordpress.com               left   \n",
       "144   counterinformation.wordpress.com  wordpress.com               left   \n",
       "362               newzeal.blogspot.com   blogspot.com              right   \n",
       "492         sharpelbowsstl.blogspot.ca    blogspot.ca              right   \n",
       "534     theimmoralminority.blogspot.ca    blogspot.ca               left   \n",
       "\n",
       "    date_registered year_registered month_registered  \n",
       "4               NaN             NaN              NaN  \n",
       "144             NaN             NaN              NaN  \n",
       "362             NaN             NaN              NaN  \n",
       "492             NaN             NaN              NaN  \n",
       "534             NaN             NaN              NaN  "
      ]
     },
     "execution_count": 11,
     "metadata": {},
     "output_type": "execute_result"
    }
   ],
   "source": [
    "registration_dates[\n",
    "    registration_dates[\"date_registered\"].isnull()\n",
    "]"
   ]
  },
  {
   "cell_type": "markdown",
   "metadata": {},
   "source": [
    "### Aggregating registration dates by year, month, and political affiliation"
   ]
  },
  {
   "cell_type": "code",
   "execution_count": 12,
   "metadata": {},
   "outputs": [
    {
     "data": {
      "text/html": [
       "<div>\n",
       "<style>\n",
       "    .dataframe thead tr:only-child th {\n",
       "        text-align: right;\n",
       "    }\n",
       "\n",
       "    .dataframe thead th {\n",
       "        text-align: left;\n",
       "    }\n",
       "\n",
       "    .dataframe tbody tr th {\n",
       "        vertical-align: top;\n",
       "    }\n",
       "</style>\n",
       "<table border=\"1\" class=\"dataframe\">\n",
       "  <thead>\n",
       "    <tr style=\"text-align: right;\">\n",
       "      <th>political_category</th>\n",
       "      <th>left</th>\n",
       "      <th>right</th>\n",
       "      <th>total</th>\n",
       "    </tr>\n",
       "    <tr>\n",
       "      <th>year_registered</th>\n",
       "      <th></th>\n",
       "      <th></th>\n",
       "      <th></th>\n",
       "    </tr>\n",
       "  </thead>\n",
       "  <tbody>\n",
       "    <tr>\n",
       "      <th>1994</th>\n",
       "      <td>2</td>\n",
       "      <td>1</td>\n",
       "      <td>3</td>\n",
       "    </tr>\n",
       "    <tr>\n",
       "      <th>1995</th>\n",
       "      <td>7</td>\n",
       "      <td>10</td>\n",
       "      <td>17</td>\n",
       "    </tr>\n",
       "    <tr>\n",
       "      <th>1996</th>\n",
       "      <td>2</td>\n",
       "      <td>5</td>\n",
       "      <td>7</td>\n",
       "    </tr>\n",
       "    <tr>\n",
       "      <th>1997</th>\n",
       "      <td>3</td>\n",
       "      <td>5</td>\n",
       "      <td>8</td>\n",
       "    </tr>\n",
       "    <tr>\n",
       "      <th>1998</th>\n",
       "      <td>5</td>\n",
       "      <td>10</td>\n",
       "      <td>15</td>\n",
       "    </tr>\n",
       "  </tbody>\n",
       "</table>\n",
       "</div>"
      ],
      "text/plain": [
       "political_category  left  right  total\n",
       "year_registered                       \n",
       "1994                   2      1      3\n",
       "1995                   7     10     17\n",
       "1996                   2      5      7\n",
       "1997                   3      5      8\n",
       "1998                   5     10     15"
      ]
     },
     "execution_count": 12,
     "metadata": {},
     "output_type": "execute_result"
    }
   ],
   "source": [
    "annual_registrations = registration_dates\\\n",
    "    .dropna(subset=[\"date_registered\"])\\\n",
    "    .groupby([ \"year_registered\", \"political_category\" ])\\\n",
    "    .size()\\\n",
    "    .unstack().fillna(0).astype(int)\\\n",
    "    .assign(total=lambda x: x.sum(axis=1))\n",
    "\n",
    "annual_registrations.to_csv(\"../output/whois-registration-counts-annual.csv\")\n",
    "annual_registrations.head()"
   ]
  },
  {
   "cell_type": "code",
   "execution_count": 13,
   "metadata": {},
   "outputs": [
    {
     "data": {
      "text/html": [
       "<div>\n",
       "<style>\n",
       "    .dataframe thead tr:only-child th {\n",
       "        text-align: right;\n",
       "    }\n",
       "\n",
       "    .dataframe thead th {\n",
       "        text-align: left;\n",
       "    }\n",
       "\n",
       "    .dataframe tbody tr th {\n",
       "        vertical-align: top;\n",
       "    }\n",
       "</style>\n",
       "<table border=\"1\" class=\"dataframe\">\n",
       "  <thead>\n",
       "    <tr style=\"text-align: right;\">\n",
       "      <th>political_category</th>\n",
       "      <th>left</th>\n",
       "      <th>right</th>\n",
       "      <th>total</th>\n",
       "    </tr>\n",
       "    <tr>\n",
       "      <th>month_registered</th>\n",
       "      <th></th>\n",
       "      <th></th>\n",
       "      <th></th>\n",
       "    </tr>\n",
       "  </thead>\n",
       "  <tbody>\n",
       "    <tr>\n",
       "      <th>1994-11</th>\n",
       "      <td>0</td>\n",
       "      <td>1</td>\n",
       "      <td>1</td>\n",
       "    </tr>\n",
       "    <tr>\n",
       "      <th>1994-12</th>\n",
       "      <td>2</td>\n",
       "      <td>0</td>\n",
       "      <td>2</td>\n",
       "    </tr>\n",
       "    <tr>\n",
       "      <th>1995-02</th>\n",
       "      <td>1</td>\n",
       "      <td>0</td>\n",
       "      <td>1</td>\n",
       "    </tr>\n",
       "    <tr>\n",
       "      <th>1995-03</th>\n",
       "      <td>0</td>\n",
       "      <td>1</td>\n",
       "      <td>1</td>\n",
       "    </tr>\n",
       "    <tr>\n",
       "      <th>1995-04</th>\n",
       "      <td>1</td>\n",
       "      <td>1</td>\n",
       "      <td>2</td>\n",
       "    </tr>\n",
       "  </tbody>\n",
       "</table>\n",
       "</div>"
      ],
      "text/plain": [
       "political_category  left  right  total\n",
       "month_registered                      \n",
       "1994-11                0      1      1\n",
       "1994-12                2      0      2\n",
       "1995-02                1      0      1\n",
       "1995-03                0      1      1\n",
       "1995-04                1      1      2"
      ]
     },
     "execution_count": 13,
     "metadata": {},
     "output_type": "execute_result"
    }
   ],
   "source": [
    "monthly_registrations = registration_dates\\\n",
    "    .dropna(subset=[\"date_registered\"])\\\n",
    "    .groupby([ \"month_registered\", \"political_category\" ])\\\n",
    "    .size()\\\n",
    "    .unstack().fillna(0).astype(int)\\\n",
    "    .assign(total=lambda x: x.sum(axis=1))\n",
    "    \n",
    "monthly_registrations.to_csv(\"../output/whois-registration-counts-monthly.csv\")\n",
    "monthly_registrations.head()"
   ]
  },
  {
   "cell_type": "markdown",
   "metadata": {},
   "source": [
    "---\n",
    "\n",
    "---\n",
    "\n",
    "---"
   ]
  }
 ],
 "metadata": {
  "kernelspec": {
   "display_name": "Python 3",
   "language": "python",
   "name": "python3"
  },
  "language_info": {
   "codemirror_mode": {
    "name": "ipython",
    "version": 3
   },
   "file_extension": ".py",
   "mimetype": "text/x-python",
   "name": "python",
   "nbconvert_exporter": "python",
   "pygments_lexer": "ipython3",
   "version": "3.4.3"
  }
 },
 "nbformat": 4,
 "nbformat_minor": 2
}
