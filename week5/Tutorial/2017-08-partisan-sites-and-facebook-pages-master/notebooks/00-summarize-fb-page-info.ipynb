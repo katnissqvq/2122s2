{
 "cells": [
  {
   "cell_type": "markdown",
   "metadata": {},
   "source": [
    "# Summarize general info for Facebook pages\n",
    "\n",
    "This notebook combines the `pages-info.csv` and `all-partisan-sites.csv` files to produce a file with four attributes for each Facebook page:\n",
    "\n",
    "- `page_id`\n",
    "- `political_category`\n",
    "- `page_name`\n",
    "- `fan_count`"
   ]
  },
  {
   "cell_type": "code",
   "execution_count": 1,
   "metadata": {
    "collapsed": true
   },
   "outputs": [],
   "source": [
    "import pandas as pd"
   ]
  },
  {
   "cell_type": "code",
   "execution_count": 2,
   "metadata": {},
   "outputs": [
    {
     "data": {
      "text/html": [
       "<div>\n",
       "<style>\n",
       "    .dataframe thead tr:only-child th {\n",
       "        text-align: right;\n",
       "    }\n",
       "\n",
       "    .dataframe thead th {\n",
       "        text-align: left;\n",
       "    }\n",
       "\n",
       "    .dataframe tbody tr th {\n",
       "        vertical-align: top;\n",
       "    }\n",
       "</style>\n",
       "<table border=\"1\" class=\"dataframe\">\n",
       "  <thead>\n",
       "    <tr style=\"text-align: right;\">\n",
       "      <th></th>\n",
       "      <th>page_id</th>\n",
       "      <th>page_name</th>\n",
       "      <th>fan_count</th>\n",
       "    </tr>\n",
       "  </thead>\n",
       "  <tbody>\n",
       "    <tr>\n",
       "      <th>0</th>\n",
       "      <td>108038612554992</td>\n",
       "      <td>Americans Against the Tea Party</td>\n",
       "      <td>583256</td>\n",
       "    </tr>\n",
       "    <tr>\n",
       "      <th>1</th>\n",
       "      <td>153418591515382</td>\n",
       "      <td>act.tv</td>\n",
       "      <td>285075</td>\n",
       "    </tr>\n",
       "    <tr>\n",
       "      <th>2</th>\n",
       "      <td>188464111175168</td>\n",
       "      <td>New Blue United</td>\n",
       "      <td>1476093</td>\n",
       "    </tr>\n",
       "    <tr>\n",
       "      <th>3</th>\n",
       "      <td>296856040436954</td>\n",
       "      <td>Obama is the Worst President in US History</td>\n",
       "      <td>1569590</td>\n",
       "    </tr>\n",
       "    <tr>\n",
       "      <th>4</th>\n",
       "      <td>492836854251934</td>\n",
       "      <td>RedFlag NewsDesk</td>\n",
       "      <td>1533</td>\n",
       "    </tr>\n",
       "  </tbody>\n",
       "</table>\n",
       "</div>"
      ],
      "text/plain": [
       "           page_id                                   page_name  fan_count\n",
       "0  108038612554992             Americans Against the Tea Party     583256\n",
       "1  153418591515382                                      act.tv     285075\n",
       "2  188464111175168                             New Blue United    1476093\n",
       "3  296856040436954  Obama is the Worst President in US History    1569590\n",
       "4  492836854251934                            RedFlag NewsDesk       1533"
      ]
     },
     "execution_count": 2,
     "metadata": {},
     "output_type": "execute_result"
    }
   ],
   "source": [
    "page_info = pd.read_csv(\"../data/pages-info.csv\", dtype={\"page_id\": str})\\\n",
    "    [[ \"page_id\", \"page_name\", \"fan_count\" ]]\n",
    "page_info.head()"
   ]
  },
  {
   "cell_type": "code",
   "execution_count": 3,
   "metadata": {},
   "outputs": [
    {
     "data": {
      "text/html": [
       "<div>\n",
       "<style>\n",
       "    .dataframe thead tr:only-child th {\n",
       "        text-align: right;\n",
       "    }\n",
       "\n",
       "    .dataframe thead th {\n",
       "        text-align: left;\n",
       "    }\n",
       "\n",
       "    .dataframe tbody tr th {\n",
       "        vertical-align: top;\n",
       "    }\n",
       "</style>\n",
       "<table border=\"1\" class=\"dataframe\">\n",
       "  <thead>\n",
       "    <tr style=\"text-align: right;\">\n",
       "      <th></th>\n",
       "      <th>site</th>\n",
       "      <th>political_category</th>\n",
       "      <th>page_id</th>\n",
       "    </tr>\n",
       "  </thead>\n",
       "  <tbody>\n",
       "    <tr>\n",
       "      <th>0</th>\n",
       "      <td>100percentfedup.com</td>\n",
       "      <td>right</td>\n",
       "      <td>311190048935167</td>\n",
       "    </tr>\n",
       "    <tr>\n",
       "      <th>1</th>\n",
       "      <td>21stcenturywire.com</td>\n",
       "      <td>left</td>\n",
       "      <td>182032255155419</td>\n",
       "    </tr>\n",
       "    <tr>\n",
       "      <th>2</th>\n",
       "      <td>24dailynew.com</td>\n",
       "      <td>right</td>\n",
       "      <td>515629708825640</td>\n",
       "    </tr>\n",
       "    <tr>\n",
       "      <th>3</th>\n",
       "      <td>24usnews.com</td>\n",
       "      <td>right</td>\n",
       "      <td>1430973860248840</td>\n",
       "    </tr>\n",
       "    <tr>\n",
       "      <th>4</th>\n",
       "      <td>4threvolutionarywar.wordpress.com</td>\n",
       "      <td>left</td>\n",
       "      <td>NaN</td>\n",
       "    </tr>\n",
       "  </tbody>\n",
       "</table>\n",
       "</div>"
      ],
      "text/plain": [
       "                                site political_category           page_id\n",
       "0                100percentfedup.com              right   311190048935167\n",
       "1                21stcenturywire.com               left   182032255155419\n",
       "2                     24dailynew.com              right   515629708825640\n",
       "3                       24usnews.com              right  1430973860248840\n",
       "4  4threvolutionarywar.wordpress.com               left               NaN"
      ]
     },
     "execution_count": 3,
     "metadata": {},
     "output_type": "execute_result"
    }
   ],
   "source": [
    "sites = pd.read_csv(\n",
    "    '../data/all-partisan-sites.csv',\n",
    "    dtype={ \"fb_id\": str },\n",
    "    na_values=[\"None\"]\n",
    ").rename(columns={\"fb_id\": \"page_id\"})\n",
    "\n",
    "sites[[ \"site\", \"political_category\", \"page_id\",  ]].head()"
   ]
  },
  {
   "cell_type": "markdown",
   "metadata": {},
   "source": [
    "Make sure that each page has been assigned only one political category:"
   ]
  },
  {
   "cell_type": "code",
   "execution_count": 4,
   "metadata": {
    "collapsed": true
   },
   "outputs": [],
   "source": [
    "assert (sites[\n",
    "    ~sites[\"page_id\"].isin([ \"unavailable\", \"personal_page\" ])\n",
    "].groupby(\"page_id\")[\"political_category\"].nunique() > 1).sum() == 0"
   ]
  },
  {
   "cell_type": "code",
   "execution_count": 5,
   "metadata": {},
   "outputs": [
    {
     "data": {
      "text/html": [
       "<div>\n",
       "<style>\n",
       "    .dataframe thead tr:only-child th {\n",
       "        text-align: right;\n",
       "    }\n",
       "\n",
       "    .dataframe thead th {\n",
       "        text-align: left;\n",
       "    }\n",
       "\n",
       "    .dataframe tbody tr th {\n",
       "        vertical-align: top;\n",
       "    }\n",
       "</style>\n",
       "<table border=\"1\" class=\"dataframe\">\n",
       "  <thead>\n",
       "    <tr style=\"text-align: right;\">\n",
       "      <th></th>\n",
       "      <th>page_id</th>\n",
       "      <th>political_category</th>\n",
       "    </tr>\n",
       "  </thead>\n",
       "  <tbody>\n",
       "    <tr>\n",
       "      <th>0</th>\n",
       "      <td>100434040001314</td>\n",
       "      <td>left</td>\n",
       "    </tr>\n",
       "    <tr>\n",
       "      <th>1</th>\n",
       "      <td>1014803551921469</td>\n",
       "      <td>right</td>\n",
       "    </tr>\n",
       "    <tr>\n",
       "      <th>2</th>\n",
       "      <td>1019871961378419</td>\n",
       "      <td>right</td>\n",
       "    </tr>\n",
       "    <tr>\n",
       "      <th>3</th>\n",
       "      <td>1035617169863710</td>\n",
       "      <td>right</td>\n",
       "    </tr>\n",
       "    <tr>\n",
       "      <th>4</th>\n",
       "      <td>1036253643101134</td>\n",
       "      <td>left</td>\n",
       "    </tr>\n",
       "  </tbody>\n",
       "</table>\n",
       "</div>"
      ],
      "text/plain": [
       "            page_id political_category\n",
       "0   100434040001314               left\n",
       "1  1014803551921469              right\n",
       "2  1019871961378419              right\n",
       "3  1035617169863710              right\n",
       "4  1036253643101134               left"
      ]
     },
     "execution_count": 5,
     "metadata": {},
     "output_type": "execute_result"
    }
   ],
   "source": [
    "partisanship = sites.groupby(\"page_id\")\\\n",
    "    [\"political_category\"].first()\\\n",
    "    .reset_index()\n",
    "\n",
    "partisanship.head()"
   ]
  },
  {
   "cell_type": "code",
   "execution_count": 6,
   "metadata": {},
   "outputs": [
    {
     "data": {
      "text/html": [
       "<div>\n",
       "<style>\n",
       "    .dataframe thead tr:only-child th {\n",
       "        text-align: right;\n",
       "    }\n",
       "\n",
       "    .dataframe thead th {\n",
       "        text-align: left;\n",
       "    }\n",
       "\n",
       "    .dataframe tbody tr th {\n",
       "        vertical-align: top;\n",
       "    }\n",
       "</style>\n",
       "<table border=\"1\" class=\"dataframe\">\n",
       "  <thead>\n",
       "    <tr style=\"text-align: right;\">\n",
       "      <th></th>\n",
       "      <th>page_id</th>\n",
       "      <th>page_name</th>\n",
       "      <th>fan_count</th>\n",
       "      <th>political_category</th>\n",
       "    </tr>\n",
       "  </thead>\n",
       "  <tbody>\n",
       "    <tr>\n",
       "      <th>0</th>\n",
       "      <td>108038612554992</td>\n",
       "      <td>Americans Against the Tea Party</td>\n",
       "      <td>583256</td>\n",
       "      <td>left</td>\n",
       "    </tr>\n",
       "    <tr>\n",
       "      <th>1</th>\n",
       "      <td>153418591515382</td>\n",
       "      <td>act.tv</td>\n",
       "      <td>285075</td>\n",
       "      <td>left</td>\n",
       "    </tr>\n",
       "    <tr>\n",
       "      <th>2</th>\n",
       "      <td>188464111175168</td>\n",
       "      <td>New Blue United</td>\n",
       "      <td>1476093</td>\n",
       "      <td>left</td>\n",
       "    </tr>\n",
       "    <tr>\n",
       "      <th>3</th>\n",
       "      <td>296856040436954</td>\n",
       "      <td>Obama is the Worst President in US History</td>\n",
       "      <td>1569590</td>\n",
       "      <td>right</td>\n",
       "    </tr>\n",
       "    <tr>\n",
       "      <th>4</th>\n",
       "      <td>492836854251934</td>\n",
       "      <td>RedFlag NewsDesk</td>\n",
       "      <td>1533</td>\n",
       "      <td>right</td>\n",
       "    </tr>\n",
       "  </tbody>\n",
       "</table>\n",
       "</div>"
      ],
      "text/plain": [
       "           page_id                                   page_name  fan_count  \\\n",
       "0  108038612554992             Americans Against the Tea Party     583256   \n",
       "1  153418591515382                                      act.tv     285075   \n",
       "2  188464111175168                             New Blue United    1476093   \n",
       "3  296856040436954  Obama is the Worst President in US History    1569590   \n",
       "4  492836854251934                            RedFlag NewsDesk       1533   \n",
       "\n",
       "  political_category  \n",
       "0               left  \n",
       "1               left  \n",
       "2               left  \n",
       "3              right  \n",
       "4              right  "
      ]
     },
     "execution_count": 6,
     "metadata": {},
     "output_type": "execute_result"
    }
   ],
   "source": [
    "summary = pd.merge(\n",
    "    page_info,\n",
    "    partisanship,\n",
    "    how=\"left\"\n",
    ")\n",
    "\n",
    "summary.head()"
   ]
  },
  {
   "cell_type": "code",
   "execution_count": 7,
   "metadata": {},
   "outputs": [
    {
     "data": {
      "text/plain": [
       "right    310\n",
       "left     142\n",
       "Name: political_category, dtype: int64"
      ]
     },
     "execution_count": 7,
     "metadata": {},
     "output_type": "execute_result"
    }
   ],
   "source": [
    "summary[\"political_category\"].value_counts()"
   ]
  },
  {
   "cell_type": "code",
   "execution_count": 8,
   "metadata": {
    "collapsed": true
   },
   "outputs": [],
   "source": [
    "summary.sort_values(\"page_id\")\\\n",
    "    [[\"page_id\", \"political_category\", \"page_name\", \"fan_count\" ]]\\\n",
    "    .to_csv(\"../output/fb-page-info-summary.csv\", index=False)"
   ]
  },
  {
   "cell_type": "markdown",
   "metadata": {},
   "source": [
    "---\n",
    "\n",
    "---\n",
    "\n",
    "---"
   ]
  }
 ],
 "metadata": {
  "kernelspec": {
   "display_name": "Python 3",
   "language": "python",
   "name": "python3"
  },
  "language_info": {
   "codemirror_mode": {
    "name": "ipython",
    "version": 3
   },
   "file_extension": ".py",
   "mimetype": "text/x-python",
   "name": "python",
   "nbconvert_exporter": "python",
   "pygments_lexer": "ipython3",
   "version": "3.4.3"
  }
 },
 "nbformat": 4,
 "nbformat_minor": 2
}
