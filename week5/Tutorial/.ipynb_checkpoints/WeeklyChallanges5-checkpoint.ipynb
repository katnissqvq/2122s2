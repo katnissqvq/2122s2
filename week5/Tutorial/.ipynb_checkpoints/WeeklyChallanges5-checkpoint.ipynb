{
 "cells": [
  {
   "cell_type": "markdown",
   "id": "postal-devil",
   "metadata": {},
   "source": [
    "# Challenges week 5\n",
    "\n",
    "Now that you have some experience with exploring your data and visualizing it, it's time for you to combine and apply your knowledge. You will start working on these challenges in the tutorial and will be asked to complete them by the end of the week. \n",
    "\n",
    "In each challenge, you are asked to provide the programing solution to it as well as a technical interpretation explaining the steps taken and the result.\n",
    "\n",
    "Some important notes for the challenges:\n",
    "\n",
    "* If you get an error message, try to troubleshoot it (using Google often helps). If all else fails, go to the next excercise (but make sure to hand it in).\n",
    "* We will make sure to provide feedback and improvement suggestions in the rubric. Make sure to read them; they will help you improve next week."
   ]
  },
  {
   "cell_type": "markdown",
   "id": "radio-lodging",
   "metadata": {},
   "source": [
    "## Dataset\n",
    "\n",
    "This week you will work with a new dataset. It is a data on U.S. partisan news pages on Facebook. This data was collected and analyzed by Silverman et al. (2017) for this article published on BuzzFeed [Inside The Partisan Fight For Your News Feed](https://www.buzzfeednews.com/article/craigsilverman/inside-the-partisan-fight-for-your-news-feed). The file you will work with is created based on the data available in this [GitHub repository](https://github.com/BuzzFeedNews/2017-08-partisan-sites-and-facebook-pages). \n",
    "\n",
    "In their investigation, the authors created a list of 667 partisan news websites. The websites were added to the list manually by two journalists who were dedicated to identifying partisan news websites. Once a website was added, its associated Facebook page was identified. This was possible for 452 websites. Information on these Facebook pages was collected using the Facebook API. Next, the websites were classified as left- or right-leaning based on a manual review of the content published by the website and its Facebook page, and by examining their About pages for mentions of partisanship. In datasets you will use, you can find information on the Facebook pages, their political leaning as well as information on enagagement. \n",
    "\n",
    "In the challenge you will use the following files:\n",
    "- `pages-info.csv` - dataset about the identified Facebook pages. It contains the following information:\n",
    "    - page_name:  name of the page on Facebook\n",
    "    - about: description of the page\n",
    "    - fan_count: number of fans\n",
    "    - talking_about_count: number of people sharing stories about the page\n",
    "    - website: name of the website related to the page\n",
    "    - page_id: ID of the Facebook page\n",
    "    - year: year when the page was created\n",
    "    - left_leaning: political left leaning of the page (takes value 1 for pages identified as left leaning and 0 for others)\n",
    "    - left_leaning: political right leaning of the page (takes value 1 for pages identified as right leaning and 0 for others)\n",
    "- `engagement_weekly.csv` - dataset about engagement with the identified pages in the last week before 2016 US presidential electiosn. It contains the following information:\n",
    "    - page_id: ID of the Facebook page\n",
    "    - status_published: the period for which engagement was measures (in this case, it is the first week of November 2016 for all pages).\n",
    "    - total_engagement: total number of engagement with the page in the week\n",
    "    - num_reactions: total number of reactions posts by the page recieved in the week (including all possible Facebook reactions)\n",
    "    - num_comments: total number of comments posts by the page recieved in the week\n",
    "    - num_shares: total number of times posts by the page have been shared in the week\n",
    "    - num_likes: total number of likes posts by the page recieved in the week\n",
    "    - num_loves: total number of 'love' reactions posts by the page recieved in the week\n",
    "    - num_wows: total number of 'wow' reactions posts by the page recieved in the week\n",
    "    - num_hahas: total number of 'haha' reactions posts by the page recieved in the week\n",
    "    - num_sads: total number of 'sad' reactions posts by the page recieved in the week\n",
    "    - num_angrys: total number of 'angry' reactions posts by the page recieved in the week\n",
    "    - post_count: total numer of posts posted in the week"
   ]
  },
  {
   "cell_type": "markdown",
   "id": "veterinary-pierre",
   "metadata": {
    "tags": []
   },
   "source": [
    "# Challange 1 \n",
    "\n",
    "Let's start with preparing and exploring the datasets. \n",
    "\n",
    "1) Explore the dataset and the necessary variables. <br /> *Make sure to at least check how the dataset looks like, what columns it has, what data type these columns have. <br />Tip: have a look at week 4 for pandas commands useful for exploration.*\n",
    "2) Merge the two datasets so that you have information on pages and the engagement they generated in the last week before the 2016 presidential elections together.  <br />*Tip: do not forget to make sure both datasets have the right keys necessary for merging and that these keys have the appropriate data types*\n",
    "3) To get a global picture of your data answer the questions below. If necessary, create new columns in your dataset necessary to answer the questions.\n",
    "    - How many pages in the dataset are left and how many right leaning? \n",
    "    - When (in what year) were the pages in the dataset created?\n",
    "    - What is the averge number of fans for left and right leaning websites?\n",
    "    \n",
    "\n",
    "For each question, provide the necessary code and a short explanation of the choices you made."
   ]
  },
  {
   "cell_type": "markdown",
   "id": "42b69460-2c43-4977-9d87-de581fe6c3c4",
   "metadata": {},
   "source": [
    "## 1.Explore the dataset and the necessary variables. Make sure to at least check how the dataset looks like, what columns it has, what data type these columns have."
   ]
  },
  {
   "cell_type": "markdown",
   "id": "19b778ed-6a01-4e6c-b4ba-c45ed8f0acba",
   "metadata": {},
   "source": [
    "* Import pandas and use it to load the two csv files"
   ]
  },
  {
   "cell_type": "code",
   "execution_count": 254,
   "id": "43d48486-0266-4146-89ee-2ea8b7f1e957",
   "metadata": {},
   "outputs": [],
   "source": [
    "import pandas as pd\n",
    "engagement=pd.read_csv('engagement_weekly.csv',sep=',',index_col=0)\n",
    "pages=pd.read_csv('pages-info.csv',sep=',',index_col=0)"
   ]
  },
  {
   "cell_type": "code",
   "execution_count": 255,
   "id": "ce835f74-a6ba-4b6c-aa04-5a21a9cd4c04",
   "metadata": {},
   "outputs": [
    {
     "data": {
      "text/html": [
       "<div>\n",
       "<style scoped>\n",
       "    .dataframe tbody tr th:only-of-type {\n",
       "        vertical-align: middle;\n",
       "    }\n",
       "\n",
       "    .dataframe tbody tr th {\n",
       "        vertical-align: top;\n",
       "    }\n",
       "\n",
       "    .dataframe thead th {\n",
       "        text-align: right;\n",
       "    }\n",
       "</style>\n",
       "<table border=\"1\" class=\"dataframe\">\n",
       "  <thead>\n",
       "    <tr style=\"text-align: right;\">\n",
       "      <th></th>\n",
       "      <th>page_id</th>\n",
       "      <th>status_published</th>\n",
       "      <th>total_engagement</th>\n",
       "      <th>num_reactions</th>\n",
       "      <th>num_comments</th>\n",
       "      <th>num_shares</th>\n",
       "      <th>num_likes</th>\n",
       "      <th>num_loves</th>\n",
       "      <th>num_wows</th>\n",
       "      <th>num_hahas</th>\n",
       "      <th>num_sads</th>\n",
       "      <th>num_angrys</th>\n",
       "      <th>post_count</th>\n",
       "    </tr>\n",
       "  </thead>\n",
       "  <tbody>\n",
       "    <tr>\n",
       "      <th>22</th>\n",
       "      <td>100434040001314</td>\n",
       "      <td>2016-11-01</td>\n",
       "      <td>49741</td>\n",
       "      <td>35318</td>\n",
       "      <td>3105</td>\n",
       "      <td>11318</td>\n",
       "      <td>22950</td>\n",
       "      <td>1906</td>\n",
       "      <td>697</td>\n",
       "      <td>4554</td>\n",
       "      <td>1206</td>\n",
       "      <td>4005</td>\n",
       "      <td>250</td>\n",
       "    </tr>\n",
       "    <tr>\n",
       "      <th>31</th>\n",
       "      <td>1014803551921469</td>\n",
       "      <td>2016-11-01</td>\n",
       "      <td>155745</td>\n",
       "      <td>95926</td>\n",
       "      <td>18311</td>\n",
       "      <td>41508</td>\n",
       "      <td>72594</td>\n",
       "      <td>5620</td>\n",
       "      <td>2233</td>\n",
       "      <td>5912</td>\n",
       "      <td>1000</td>\n",
       "      <td>8567</td>\n",
       "      <td>1289</td>\n",
       "    </tr>\n",
       "    <tr>\n",
       "      <th>49</th>\n",
       "      <td>1019871961378419</td>\n",
       "      <td>2016-11-01</td>\n",
       "      <td>1192782</td>\n",
       "      <td>900218</td>\n",
       "      <td>170192</td>\n",
       "      <td>122372</td>\n",
       "      <td>675544</td>\n",
       "      <td>47614</td>\n",
       "      <td>16100</td>\n",
       "      <td>38434</td>\n",
       "      <td>73706</td>\n",
       "      <td>48820</td>\n",
       "      <td>1260</td>\n",
       "    </tr>\n",
       "    <tr>\n",
       "      <th>60</th>\n",
       "      <td>1035617169863710</td>\n",
       "      <td>2016-11-01</td>\n",
       "      <td>2506</td>\n",
       "      <td>1497</td>\n",
       "      <td>267</td>\n",
       "      <td>742</td>\n",
       "      <td>1115</td>\n",
       "      <td>62</td>\n",
       "      <td>35</td>\n",
       "      <td>199</td>\n",
       "      <td>14</td>\n",
       "      <td>72</td>\n",
       "      <td>197</td>\n",
       "    </tr>\n",
       "    <tr>\n",
       "      <th>70</th>\n",
       "      <td>1036253643101134</td>\n",
       "      <td>2016-11-01</td>\n",
       "      <td>656574</td>\n",
       "      <td>474432</td>\n",
       "      <td>43802</td>\n",
       "      <td>138340</td>\n",
       "      <td>359882</td>\n",
       "      <td>23549</td>\n",
       "      <td>13228</td>\n",
       "      <td>25017</td>\n",
       "      <td>6682</td>\n",
       "      <td>46074</td>\n",
       "      <td>136</td>\n",
       "    </tr>\n",
       "    <tr>\n",
       "      <th>...</th>\n",
       "      <td>...</td>\n",
       "      <td>...</td>\n",
       "      <td>...</td>\n",
       "      <td>...</td>\n",
       "      <td>...</td>\n",
       "      <td>...</td>\n",
       "      <td>...</td>\n",
       "      <td>...</td>\n",
       "      <td>...</td>\n",
       "      <td>...</td>\n",
       "      <td>...</td>\n",
       "      <td>...</td>\n",
       "      <td>...</td>\n",
       "    </tr>\n",
       "    <tr>\n",
       "      <th>9062</th>\n",
       "      <td>97464672662</td>\n",
       "      <td>2016-11-01</td>\n",
       "      <td>35239</td>\n",
       "      <td>25583</td>\n",
       "      <td>4474</td>\n",
       "      <td>5182</td>\n",
       "      <td>17935</td>\n",
       "      <td>1021</td>\n",
       "      <td>1034</td>\n",
       "      <td>3423</td>\n",
       "      <td>247</td>\n",
       "      <td>1923</td>\n",
       "      <td>108</td>\n",
       "    </tr>\n",
       "    <tr>\n",
       "      <th>9081</th>\n",
       "      <td>978296472213431</td>\n",
       "      <td>2016-11-01</td>\n",
       "      <td>1448592</td>\n",
       "      <td>965548</td>\n",
       "      <td>111726</td>\n",
       "      <td>371318</td>\n",
       "      <td>826130</td>\n",
       "      <td>42430</td>\n",
       "      <td>12154</td>\n",
       "      <td>22927</td>\n",
       "      <td>7015</td>\n",
       "      <td>54892</td>\n",
       "      <td>624</td>\n",
       "    </tr>\n",
       "    <tr>\n",
       "      <th>9097</th>\n",
       "      <td>979613892126968</td>\n",
       "      <td>2016-11-01</td>\n",
       "      <td>5477609</td>\n",
       "      <td>4088038</td>\n",
       "      <td>482624</td>\n",
       "      <td>906947</td>\n",
       "      <td>3534897</td>\n",
       "      <td>247540</td>\n",
       "      <td>36634</td>\n",
       "      <td>93603</td>\n",
       "      <td>60307</td>\n",
       "      <td>115057</td>\n",
       "      <td>328</td>\n",
       "    </tr>\n",
       "    <tr>\n",
       "      <th>9124</th>\n",
       "      <td>98658495398</td>\n",
       "      <td>2016-11-01</td>\n",
       "      <td>390698</td>\n",
       "      <td>261499</td>\n",
       "      <td>42674</td>\n",
       "      <td>86525</td>\n",
       "      <td>170401</td>\n",
       "      <td>12480</td>\n",
       "      <td>10308</td>\n",
       "      <td>22682</td>\n",
       "      <td>6180</td>\n",
       "      <td>39448</td>\n",
       "      <td>446</td>\n",
       "    </tr>\n",
       "    <tr>\n",
       "      <th>9136</th>\n",
       "      <td>993293174040189</td>\n",
       "      <td>2016-11-01</td>\n",
       "      <td>219745</td>\n",
       "      <td>154756</td>\n",
       "      <td>18353</td>\n",
       "      <td>46636</td>\n",
       "      <td>128521</td>\n",
       "      <td>4567</td>\n",
       "      <td>2510</td>\n",
       "      <td>4505</td>\n",
       "      <td>1347</td>\n",
       "      <td>13306</td>\n",
       "      <td>450</td>\n",
       "    </tr>\n",
       "  </tbody>\n",
       "</table>\n",
       "<p>415 rows × 13 columns</p>\n",
       "</div>"
      ],
      "text/plain": [
       "               page_id status_published  total_engagement  num_reactions  \\\n",
       "22     100434040001314       2016-11-01             49741          35318   \n",
       "31    1014803551921469       2016-11-01            155745          95926   \n",
       "49    1019871961378419       2016-11-01           1192782         900218   \n",
       "60    1035617169863710       2016-11-01              2506           1497   \n",
       "70    1036253643101134       2016-11-01            656574         474432   \n",
       "...                ...              ...               ...            ...   \n",
       "9062       97464672662       2016-11-01             35239          25583   \n",
       "9081   978296472213431       2016-11-01           1448592         965548   \n",
       "9097   979613892126968       2016-11-01           5477609        4088038   \n",
       "9124       98658495398       2016-11-01            390698         261499   \n",
       "9136   993293174040189       2016-11-01            219745         154756   \n",
       "\n",
       "      num_comments  num_shares  num_likes  num_loves  num_wows  num_hahas  \\\n",
       "22            3105       11318      22950       1906       697       4554   \n",
       "31           18311       41508      72594       5620      2233       5912   \n",
       "49          170192      122372     675544      47614     16100      38434   \n",
       "60             267         742       1115         62        35        199   \n",
       "70           43802      138340     359882      23549     13228      25017   \n",
       "...            ...         ...        ...        ...       ...        ...   \n",
       "9062          4474        5182      17935       1021      1034       3423   \n",
       "9081        111726      371318     826130      42430     12154      22927   \n",
       "9097        482624      906947    3534897     247540     36634      93603   \n",
       "9124         42674       86525     170401      12480     10308      22682   \n",
       "9136         18353       46636     128521       4567      2510       4505   \n",
       "\n",
       "      num_sads  num_angrys  post_count  \n",
       "22        1206        4005         250  \n",
       "31        1000        8567        1289  \n",
       "49       73706       48820        1260  \n",
       "60          14          72         197  \n",
       "70        6682       46074         136  \n",
       "...        ...         ...         ...  \n",
       "9062       247        1923         108  \n",
       "9081      7015       54892         624  \n",
       "9097     60307      115057         328  \n",
       "9124      6180       39448         446  \n",
       "9136      1347       13306         450  \n",
       "\n",
       "[415 rows x 13 columns]"
      ]
     },
     "execution_count": 255,
     "metadata": {},
     "output_type": "execute_result"
    }
   ],
   "source": [
    "engagement"
   ]
  },
  {
   "cell_type": "code",
   "execution_count": 256,
   "id": "d70a501e-7fdc-47e4-85c6-4513547782e0",
   "metadata": {},
   "outputs": [
    {
     "data": {
      "text/html": [
       "<div>\n",
       "<style scoped>\n",
       "    .dataframe tbody tr th:only-of-type {\n",
       "        vertical-align: middle;\n",
       "    }\n",
       "\n",
       "    .dataframe tbody tr th {\n",
       "        vertical-align: top;\n",
       "    }\n",
       "\n",
       "    .dataframe thead th {\n",
       "        text-align: right;\n",
       "    }\n",
       "</style>\n",
       "<table border=\"1\" class=\"dataframe\">\n",
       "  <thead>\n",
       "    <tr style=\"text-align: right;\">\n",
       "      <th></th>\n",
       "      <th>page_name</th>\n",
       "      <th>about</th>\n",
       "      <th>fan_count</th>\n",
       "      <th>talking_about_count</th>\n",
       "      <th>website</th>\n",
       "      <th>page_id</th>\n",
       "      <th>year</th>\n",
       "      <th>month</th>\n",
       "      <th>day</th>\n",
       "      <th>left_leaning</th>\n",
       "      <th>right_leaning</th>\n",
       "    </tr>\n",
       "  </thead>\n",
       "  <tbody>\n",
       "    <tr>\n",
       "      <th>0</th>\n",
       "      <td>Americans Against the Tea Party</td>\n",
       "      <td>We are your go to source for political news.</td>\n",
       "      <td>583256</td>\n",
       "      <td>43343</td>\n",
       "      <td>http://www.aattp.org</td>\n",
       "      <td>108038612554992</td>\n",
       "      <td>2009.0</td>\n",
       "      <td>4.0</td>\n",
       "      <td>3.0</td>\n",
       "      <td>1</td>\n",
       "      <td>0</td>\n",
       "    </tr>\n",
       "    <tr>\n",
       "      <th>1</th>\n",
       "      <td>act.tv</td>\n",
       "      <td>Rise up and Resist! Your home for movement-ori...</td>\n",
       "      <td>285075</td>\n",
       "      <td>481748</td>\n",
       "      <td>http://act.tv</td>\n",
       "      <td>153418591515382</td>\n",
       "      <td>NaN</td>\n",
       "      <td>NaN</td>\n",
       "      <td>NaN</td>\n",
       "      <td>1</td>\n",
       "      <td>0</td>\n",
       "    </tr>\n",
       "    <tr>\n",
       "      <th>2</th>\n",
       "      <td>New Blue United</td>\n",
       "      <td>NaN</td>\n",
       "      <td>1476093</td>\n",
       "      <td>93116</td>\n",
       "      <td>www.bluetribune.com</td>\n",
       "      <td>188464111175168</td>\n",
       "      <td>NaN</td>\n",
       "      <td>NaN</td>\n",
       "      <td>NaN</td>\n",
       "      <td>1</td>\n",
       "      <td>0</td>\n",
       "    </tr>\n",
       "    <tr>\n",
       "      <th>3</th>\n",
       "      <td>Obama is the Worst President in US History</td>\n",
       "      <td>NaN</td>\n",
       "      <td>1569590</td>\n",
       "      <td>41452</td>\n",
       "      <td>NaN</td>\n",
       "      <td>296856040436954</td>\n",
       "      <td>2013.0</td>\n",
       "      <td>1.0</td>\n",
       "      <td>1.0</td>\n",
       "      <td>0</td>\n",
       "      <td>1</td>\n",
       "    </tr>\n",
       "    <tr>\n",
       "      <th>4</th>\n",
       "      <td>RedFlag NewsDesk</td>\n",
       "      <td>Daily headlines from the official RedFlagNews....</td>\n",
       "      <td>1533</td>\n",
       "      <td>76</td>\n",
       "      <td>http://redflagnews.com</td>\n",
       "      <td>492836854251934</td>\n",
       "      <td>2016.0</td>\n",
       "      <td>3.0</td>\n",
       "      <td>16.0</td>\n",
       "      <td>0</td>\n",
       "      <td>1</td>\n",
       "    </tr>\n",
       "    <tr>\n",
       "      <th>...</th>\n",
       "      <td>...</td>\n",
       "      <td>...</td>\n",
       "      <td>...</td>\n",
       "      <td>...</td>\n",
       "      <td>...</td>\n",
       "      <td>...</td>\n",
       "      <td>...</td>\n",
       "      <td>...</td>\n",
       "      <td>...</td>\n",
       "      <td>...</td>\n",
       "      <td>...</td>\n",
       "    </tr>\n",
       "    <tr>\n",
       "      <th>447</th>\n",
       "      <td>Tammy Bruce</td>\n",
       "      <td>Official Page for Radio Talk Show Host, Column...</td>\n",
       "      <td>89598</td>\n",
       "      <td>2141</td>\n",
       "      <td>http://TammyBruce.com</td>\n",
       "      <td>97464672662</td>\n",
       "      <td>NaN</td>\n",
       "      <td>NaN</td>\n",
       "      <td>NaN</td>\n",
       "      <td>0</td>\n",
       "      <td>1</td>\n",
       "    </tr>\n",
       "    <tr>\n",
       "      <th>448</th>\n",
       "      <td>The Proud Conservative</td>\n",
       "      <td>Conservative articles, images and videos that ...</td>\n",
       "      <td>741768</td>\n",
       "      <td>26966</td>\n",
       "      <td>http://proudcons.com</td>\n",
       "      <td>978296472213431</td>\n",
       "      <td>2015.0</td>\n",
       "      <td>9.0</td>\n",
       "      <td>27.0</td>\n",
       "      <td>0</td>\n",
       "      <td>1</td>\n",
       "    </tr>\n",
       "    <tr>\n",
       "      <th>449</th>\n",
       "      <td>Proud Liberals</td>\n",
       "      <td>LIKE if you are a Proud Liberal!</td>\n",
       "      <td>2413702</td>\n",
       "      <td>158502</td>\n",
       "      <td>http://RealtimePolitics.com</td>\n",
       "      <td>979613892126968</td>\n",
       "      <td>NaN</td>\n",
       "      <td>NaN</td>\n",
       "      <td>NaN</td>\n",
       "      <td>1</td>\n",
       "      <td>0</td>\n",
       "    </tr>\n",
       "    <tr>\n",
       "      <th>450</th>\n",
       "      <td>Talking Points Memo</td>\n",
       "      <td>Welcome to the Talking Points Memo Facebook pa...</td>\n",
       "      <td>417009</td>\n",
       "      <td>12381</td>\n",
       "      <td>www.talkingpointsmemo.com</td>\n",
       "      <td>98658495398</td>\n",
       "      <td>2000.0</td>\n",
       "      <td>NaN</td>\n",
       "      <td>NaN</td>\n",
       "      <td>1</td>\n",
       "      <td>0</td>\n",
       "    </tr>\n",
       "    <tr>\n",
       "      <th>451</th>\n",
       "      <td>Pro-America News</td>\n",
       "      <td>We tell the real news about America that the m...</td>\n",
       "      <td>298593</td>\n",
       "      <td>12231</td>\n",
       "      <td>http://ProAmericaNews.com</td>\n",
       "      <td>993293174040189</td>\n",
       "      <td>NaN</td>\n",
       "      <td>NaN</td>\n",
       "      <td>NaN</td>\n",
       "      <td>0</td>\n",
       "      <td>1</td>\n",
       "    </tr>\n",
       "  </tbody>\n",
       "</table>\n",
       "<p>452 rows × 11 columns</p>\n",
       "</div>"
      ],
      "text/plain": [
       "                                      page_name  \\\n",
       "0               Americans Against the Tea Party   \n",
       "1                                        act.tv   \n",
       "2                               New Blue United   \n",
       "3    Obama is the Worst President in US History   \n",
       "4                              RedFlag NewsDesk   \n",
       "..                                          ...   \n",
       "447                                 Tammy Bruce   \n",
       "448                      The Proud Conservative   \n",
       "449                              Proud Liberals   \n",
       "450                         Talking Points Memo   \n",
       "451                            Pro-America News   \n",
       "\n",
       "                                                 about  fan_count  \\\n",
       "0        We are your go to source for political news.      583256   \n",
       "1    Rise up and Resist! Your home for movement-ori...     285075   \n",
       "2                                                  NaN    1476093   \n",
       "3                                                  NaN    1569590   \n",
       "4    Daily headlines from the official RedFlagNews....       1533   \n",
       "..                                                 ...        ...   \n",
       "447  Official Page for Radio Talk Show Host, Column...      89598   \n",
       "448  Conservative articles, images and videos that ...     741768   \n",
       "449                   LIKE if you are a Proud Liberal!    2413702   \n",
       "450  Welcome to the Talking Points Memo Facebook pa...     417009   \n",
       "451  We tell the real news about America that the m...     298593   \n",
       "\n",
       "     talking_about_count                      website          page_id  \\\n",
       "0                  43343         http://www.aattp.org  108038612554992   \n",
       "1                 481748                http://act.tv  153418591515382   \n",
       "2                  93116          www.bluetribune.com  188464111175168   \n",
       "3                  41452                          NaN  296856040436954   \n",
       "4                     76       http://redflagnews.com  492836854251934   \n",
       "..                   ...                          ...              ...   \n",
       "447                 2141        http://TammyBruce.com      97464672662   \n",
       "448                26966         http://proudcons.com  978296472213431   \n",
       "449               158502  http://RealtimePolitics.com  979613892126968   \n",
       "450                12381   www.talkingpointsmemo.com       98658495398   \n",
       "451                12231    http://ProAmericaNews.com  993293174040189   \n",
       "\n",
       "       year  month   day  left_leaning  right_leaning  \n",
       "0    2009.0    4.0   3.0             1              0  \n",
       "1       NaN    NaN   NaN             1              0  \n",
       "2       NaN    NaN   NaN             1              0  \n",
       "3    2013.0    1.0   1.0             0              1  \n",
       "4    2016.0    3.0  16.0             0              1  \n",
       "..      ...    ...   ...           ...            ...  \n",
       "447     NaN    NaN   NaN             0              1  \n",
       "448  2015.0    9.0  27.0             0              1  \n",
       "449     NaN    NaN   NaN             1              0  \n",
       "450  2000.0    NaN   NaN             1              0  \n",
       "451     NaN    NaN   NaN             0              1  \n",
       "\n",
       "[452 rows x 11 columns]"
      ]
     },
     "execution_count": 256,
     "metadata": {},
     "output_type": "execute_result"
    }
   ],
   "source": [
    "pages"
   ]
  },
  {
   "cell_type": "markdown",
   "id": "7c964c45-4207-4984-af9b-946de73ecc94",
   "metadata": {},
   "source": [
    "* Cehck the data type of the columns from the two dataframe, using .dtypes. Also check all the missing values using isnull().sum() function."
   ]
  },
  {
   "cell_type": "code",
   "execution_count": 257,
   "id": "5534bed2-37ef-4a0a-9848-7222ade6f1f9",
   "metadata": {},
   "outputs": [
    {
     "data": {
      "text/plain": [
       "page_id              int64\n",
       "status_published    object\n",
       "total_engagement     int64\n",
       "num_reactions        int64\n",
       "num_comments         int64\n",
       "num_shares           int64\n",
       "num_likes            int64\n",
       "num_loves            int64\n",
       "num_wows             int64\n",
       "num_hahas            int64\n",
       "num_sads             int64\n",
       "num_angrys           int64\n",
       "post_count           int64\n",
       "dtype: object"
      ]
     },
     "execution_count": 257,
     "metadata": {},
     "output_type": "execute_result"
    }
   ],
   "source": [
    "engagement.dtypes"
   ]
  },
  {
   "cell_type": "code",
   "execution_count": 258,
   "id": "0832f865-733e-4e77-8e50-05c5ac865f06",
   "metadata": {},
   "outputs": [
    {
     "data": {
      "text/plain": [
       "page_id             0\n",
       "status_published    0\n",
       "total_engagement    0\n",
       "num_reactions       0\n",
       "num_comments        0\n",
       "num_shares          0\n",
       "num_likes           0\n",
       "num_loves           0\n",
       "num_wows            0\n",
       "num_hahas           0\n",
       "num_sads            0\n",
       "num_angrys          0\n",
       "post_count          0\n",
       "dtype: int64"
      ]
     },
     "execution_count": 258,
     "metadata": {},
     "output_type": "execute_result"
    }
   ],
   "source": [
    "engagement.isnull().sum()"
   ]
  },
  {
   "cell_type": "code",
   "execution_count": 259,
   "id": "1c809dae-4d56-40fb-843e-11de0180e5e7",
   "metadata": {},
   "outputs": [
    {
     "data": {
      "text/plain": [
       "page_name               object\n",
       "about                   object\n",
       "fan_count                int64\n",
       "talking_about_count      int64\n",
       "website                 object\n",
       "page_id                  int64\n",
       "year                   float64\n",
       "month                  float64\n",
       "day                    float64\n",
       "left_leaning             int64\n",
       "right_leaning            int64\n",
       "dtype: object"
      ]
     },
     "execution_count": 259,
     "metadata": {},
     "output_type": "execute_result"
    }
   ],
   "source": [
    "pages.dtypes"
   ]
  },
  {
   "cell_type": "code",
   "execution_count": 260,
   "id": "75293696-1b67-4fde-a070-4d94bacbd356",
   "metadata": {},
   "outputs": [
    {
     "data": {
      "text/plain": [
       "page_name                0\n",
       "about                   26\n",
       "fan_count                0\n",
       "talking_about_count      0\n",
       "website                 29\n",
       "page_id                  0\n",
       "year                   241\n",
       "month                  332\n",
       "day                    362\n",
       "left_leaning             0\n",
       "right_leaning            0\n",
       "dtype: int64"
      ]
     },
     "execution_count": 260,
     "metadata": {},
     "output_type": "execute_result"
    }
   ],
   "source": [
    "pages.isnull().sum()"
   ]
  },
  {
   "cell_type": "markdown",
   "id": "8b38467a-ec21-48b2-9f5e-cd33a783f9a2",
   "metadata": {
    "tags": []
   },
   "source": [
    "## 2.Merge the two datasets so that you have information on pages and the engagement they generated in the last week before the 2016 presidential elections together."
   ]
  },
  {
   "cell_type": "markdown",
   "id": "8287a95d-0e2f-4ff7-885c-b67a7161b4e7",
   "metadata": {},
   "source": [
    "* After checking all the missing values, using the outer merge to create the new dataset using the column with same name from the two datasets, 'page_id'. All information on pages and engagement they generated before 2016 election are contained by the new dataset."
   ]
  },
  {
   "cell_type": "code",
   "execution_count": 261,
   "id": "2e846ecc-4424-4016-988e-9692b5e5efd6",
   "metadata": {},
   "outputs": [
    {
     "data": {
      "text/html": [
       "<div>\n",
       "<style scoped>\n",
       "    .dataframe tbody tr th:only-of-type {\n",
       "        vertical-align: middle;\n",
       "    }\n",
       "\n",
       "    .dataframe tbody tr th {\n",
       "        vertical-align: top;\n",
       "    }\n",
       "\n",
       "    .dataframe thead th {\n",
       "        text-align: right;\n",
       "    }\n",
       "</style>\n",
       "<table border=\"1\" class=\"dataframe\">\n",
       "  <thead>\n",
       "    <tr style=\"text-align: right;\">\n",
       "      <th></th>\n",
       "      <th>page_id</th>\n",
       "      <th>status_published</th>\n",
       "      <th>total_engagement</th>\n",
       "      <th>num_reactions</th>\n",
       "      <th>num_comments</th>\n",
       "      <th>num_shares</th>\n",
       "      <th>num_likes</th>\n",
       "      <th>num_loves</th>\n",
       "      <th>num_wows</th>\n",
       "      <th>num_hahas</th>\n",
       "      <th>...</th>\n",
       "      <th>page_name</th>\n",
       "      <th>about</th>\n",
       "      <th>fan_count</th>\n",
       "      <th>talking_about_count</th>\n",
       "      <th>website</th>\n",
       "      <th>year</th>\n",
       "      <th>month</th>\n",
       "      <th>day</th>\n",
       "      <th>left_leaning</th>\n",
       "      <th>right_leaning</th>\n",
       "    </tr>\n",
       "  </thead>\n",
       "  <tbody>\n",
       "    <tr>\n",
       "      <th>0</th>\n",
       "      <td>100434040001314</td>\n",
       "      <td>2016-11-01</td>\n",
       "      <td>49741.0</td>\n",
       "      <td>35318.0</td>\n",
       "      <td>3105.0</td>\n",
       "      <td>11318.0</td>\n",
       "      <td>22950.0</td>\n",
       "      <td>1906.0</td>\n",
       "      <td>697.0</td>\n",
       "      <td>4554.0</td>\n",
       "      <td>...</td>\n",
       "      <td>Wonkette</td>\n",
       "      <td>Welcome, Wonkette Operatives, to the Facebook ...</td>\n",
       "      <td>96322</td>\n",
       "      <td>5483</td>\n",
       "      <td>http://wonkette.com</td>\n",
       "      <td>2004.0</td>\n",
       "      <td>NaN</td>\n",
       "      <td>NaN</td>\n",
       "      <td>1</td>\n",
       "      <td>0</td>\n",
       "    </tr>\n",
       "    <tr>\n",
       "      <th>1</th>\n",
       "      <td>1014803551921469</td>\n",
       "      <td>2016-11-01</td>\n",
       "      <td>155745.0</td>\n",
       "      <td>95926.0</td>\n",
       "      <td>18311.0</td>\n",
       "      <td>41508.0</td>\n",
       "      <td>72594.0</td>\n",
       "      <td>5620.0</td>\n",
       "      <td>2233.0</td>\n",
       "      <td>5912.0</td>\n",
       "      <td>...</td>\n",
       "      <td>SourcesNews</td>\n",
       "      <td>Unfiltered and from reliable sources news from...</td>\n",
       "      <td>59306</td>\n",
       "      <td>185</td>\n",
       "      <td>http://sourcesnews.com/</td>\n",
       "      <td>2005.0</td>\n",
       "      <td>4.0</td>\n",
       "      <td>14.0</td>\n",
       "      <td>0</td>\n",
       "      <td>1</td>\n",
       "    </tr>\n",
       "    <tr>\n",
       "      <th>2</th>\n",
       "      <td>1019871961378419</td>\n",
       "      <td>2016-11-01</td>\n",
       "      <td>1192782.0</td>\n",
       "      <td>900218.0</td>\n",
       "      <td>170192.0</td>\n",
       "      <td>122372.0</td>\n",
       "      <td>675544.0</td>\n",
       "      <td>47614.0</td>\n",
       "      <td>16100.0</td>\n",
       "      <td>38434.0</td>\n",
       "      <td>...</td>\n",
       "      <td>Rare America</td>\n",
       "      <td>News, issues, politics and premium video stori...</td>\n",
       "      <td>2982929</td>\n",
       "      <td>244614</td>\n",
       "      <td>NaN</td>\n",
       "      <td>NaN</td>\n",
       "      <td>NaN</td>\n",
       "      <td>NaN</td>\n",
       "      <td>0</td>\n",
       "      <td>1</td>\n",
       "    </tr>\n",
       "    <tr>\n",
       "      <th>3</th>\n",
       "      <td>1035617169863710</td>\n",
       "      <td>2016-11-01</td>\n",
       "      <td>2506.0</td>\n",
       "      <td>1497.0</td>\n",
       "      <td>267.0</td>\n",
       "      <td>742.0</td>\n",
       "      <td>1115.0</td>\n",
       "      <td>62.0</td>\n",
       "      <td>35.0</td>\n",
       "      <td>199.0</td>\n",
       "      <td>...</td>\n",
       "      <td>I DID NOT Vote For Hillary in 2016</td>\n",
       "      <td>NaN</td>\n",
       "      <td>36269</td>\n",
       "      <td>68</td>\n",
       "      <td>NaN</td>\n",
       "      <td>NaN</td>\n",
       "      <td>NaN</td>\n",
       "      <td>NaN</td>\n",
       "      <td>0</td>\n",
       "      <td>1</td>\n",
       "    </tr>\n",
       "    <tr>\n",
       "      <th>4</th>\n",
       "      <td>1036253643101134</td>\n",
       "      <td>2016-11-01</td>\n",
       "      <td>656574.0</td>\n",
       "      <td>474432.0</td>\n",
       "      <td>43802.0</td>\n",
       "      <td>138340.0</td>\n",
       "      <td>359882.0</td>\n",
       "      <td>23549.0</td>\n",
       "      <td>13228.0</td>\n",
       "      <td>25017.0</td>\n",
       "      <td>...</td>\n",
       "      <td>Proud Liberal</td>\n",
       "      <td>Your source for news, stories, and events.\\r\\n...</td>\n",
       "      <td>510991</td>\n",
       "      <td>41971</td>\n",
       "      <td>http://theproudliberal.org</td>\n",
       "      <td>2016.0</td>\n",
       "      <td>NaN</td>\n",
       "      <td>NaN</td>\n",
       "      <td>1</td>\n",
       "      <td>0</td>\n",
       "    </tr>\n",
       "    <tr>\n",
       "      <th>...</th>\n",
       "      <td>...</td>\n",
       "      <td>...</td>\n",
       "      <td>...</td>\n",
       "      <td>...</td>\n",
       "      <td>...</td>\n",
       "      <td>...</td>\n",
       "      <td>...</td>\n",
       "      <td>...</td>\n",
       "      <td>...</td>\n",
       "      <td>...</td>\n",
       "      <td>...</td>\n",
       "      <td>...</td>\n",
       "      <td>...</td>\n",
       "      <td>...</td>\n",
       "      <td>...</td>\n",
       "      <td>...</td>\n",
       "      <td>...</td>\n",
       "      <td>...</td>\n",
       "      <td>...</td>\n",
       "      <td>...</td>\n",
       "      <td>...</td>\n",
       "    </tr>\n",
       "    <tr>\n",
       "      <th>447</th>\n",
       "      <td>776713152468040</td>\n",
       "      <td>NaN</td>\n",
       "      <td>NaN</td>\n",
       "      <td>NaN</td>\n",
       "      <td>NaN</td>\n",
       "      <td>NaN</td>\n",
       "      <td>NaN</td>\n",
       "      <td>NaN</td>\n",
       "      <td>NaN</td>\n",
       "      <td>NaN</td>\n",
       "      <td>...</td>\n",
       "      <td>In Democrats We Trust</td>\n",
       "      <td>In Democrats We Trust!</td>\n",
       "      <td>641395</td>\n",
       "      <td>41288</td>\n",
       "      <td>NaN</td>\n",
       "      <td>NaN</td>\n",
       "      <td>NaN</td>\n",
       "      <td>NaN</td>\n",
       "      <td>1</td>\n",
       "      <td>0</td>\n",
       "    </tr>\n",
       "    <tr>\n",
       "      <th>448</th>\n",
       "      <td>822016851270450</td>\n",
       "      <td>NaN</td>\n",
       "      <td>NaN</td>\n",
       "      <td>NaN</td>\n",
       "      <td>NaN</td>\n",
       "      <td>NaN</td>\n",
       "      <td>NaN</td>\n",
       "      <td>NaN</td>\n",
       "      <td>NaN</td>\n",
       "      <td>NaN</td>\n",
       "      <td>...</td>\n",
       "      <td>The Trump Media</td>\n",
       "      <td>Website coming soon...</td>\n",
       "      <td>63551</td>\n",
       "      <td>9432</td>\n",
       "      <td>NaN</td>\n",
       "      <td>NaN</td>\n",
       "      <td>NaN</td>\n",
       "      <td>NaN</td>\n",
       "      <td>0</td>\n",
       "      <td>1</td>\n",
       "    </tr>\n",
       "    <tr>\n",
       "      <th>449</th>\n",
       "      <td>824651571003336</td>\n",
       "      <td>NaN</td>\n",
       "      <td>NaN</td>\n",
       "      <td>NaN</td>\n",
       "      <td>NaN</td>\n",
       "      <td>NaN</td>\n",
       "      <td>NaN</td>\n",
       "      <td>NaN</td>\n",
       "      <td>NaN</td>\n",
       "      <td>NaN</td>\n",
       "      <td>...</td>\n",
       "      <td>SpartaReport</td>\n",
       "      <td>A Conservative news and opinion website provid...</td>\n",
       "      <td>3054</td>\n",
       "      <td>20</td>\n",
       "      <td>https://www.spartareport.com</td>\n",
       "      <td>2016.0</td>\n",
       "      <td>2.0</td>\n",
       "      <td>NaN</td>\n",
       "      <td>0</td>\n",
       "      <td>1</td>\n",
       "    </tr>\n",
       "    <tr>\n",
       "      <th>450</th>\n",
       "      <td>827052560703226</td>\n",
       "      <td>NaN</td>\n",
       "      <td>NaN</td>\n",
       "      <td>NaN</td>\n",
       "      <td>NaN</td>\n",
       "      <td>NaN</td>\n",
       "      <td>NaN</td>\n",
       "      <td>NaN</td>\n",
       "      <td>NaN</td>\n",
       "      <td>NaN</td>\n",
       "      <td>...</td>\n",
       "      <td>Higgins News Network</td>\n",
       "      <td>Higgins News Network aggregates and reports wo...</td>\n",
       "      <td>743</td>\n",
       "      <td>0</td>\n",
       "      <td>http://www.alexanderhiggins.com</td>\n",
       "      <td>NaN</td>\n",
       "      <td>NaN</td>\n",
       "      <td>NaN</td>\n",
       "      <td>1</td>\n",
       "      <td>0</td>\n",
       "    </tr>\n",
       "    <tr>\n",
       "      <th>451</th>\n",
       "      <td>945145548946376</td>\n",
       "      <td>NaN</td>\n",
       "      <td>NaN</td>\n",
       "      <td>NaN</td>\n",
       "      <td>NaN</td>\n",
       "      <td>NaN</td>\n",
       "      <td>NaN</td>\n",
       "      <td>NaN</td>\n",
       "      <td>NaN</td>\n",
       "      <td>NaN</td>\n",
       "      <td>...</td>\n",
       "      <td>Think Right Politics</td>\n",
       "      <td>This is Think Right - Inspiring thought since ...</td>\n",
       "      <td>1591</td>\n",
       "      <td>6</td>\n",
       "      <td>thinkrightpolitics.com</td>\n",
       "      <td>2017.0</td>\n",
       "      <td>3.0</td>\n",
       "      <td>22.0</td>\n",
       "      <td>0</td>\n",
       "      <td>1</td>\n",
       "    </tr>\n",
       "  </tbody>\n",
       "</table>\n",
       "<p>452 rows × 23 columns</p>\n",
       "</div>"
      ],
      "text/plain": [
       "              page_id status_published  total_engagement  num_reactions  \\\n",
       "0     100434040001314       2016-11-01           49741.0        35318.0   \n",
       "1    1014803551921469       2016-11-01          155745.0        95926.0   \n",
       "2    1019871961378419       2016-11-01         1192782.0       900218.0   \n",
       "3    1035617169863710       2016-11-01            2506.0         1497.0   \n",
       "4    1036253643101134       2016-11-01          656574.0       474432.0   \n",
       "..                ...              ...               ...            ...   \n",
       "447   776713152468040              NaN               NaN            NaN   \n",
       "448   822016851270450              NaN               NaN            NaN   \n",
       "449   824651571003336              NaN               NaN            NaN   \n",
       "450   827052560703226              NaN               NaN            NaN   \n",
       "451   945145548946376              NaN               NaN            NaN   \n",
       "\n",
       "     num_comments  num_shares  num_likes  num_loves  num_wows  num_hahas  ...  \\\n",
       "0          3105.0     11318.0    22950.0     1906.0     697.0     4554.0  ...   \n",
       "1         18311.0     41508.0    72594.0     5620.0    2233.0     5912.0  ...   \n",
       "2        170192.0    122372.0   675544.0    47614.0   16100.0    38434.0  ...   \n",
       "3           267.0       742.0     1115.0       62.0      35.0      199.0  ...   \n",
       "4         43802.0    138340.0   359882.0    23549.0   13228.0    25017.0  ...   \n",
       "..            ...         ...        ...        ...       ...        ...  ...   \n",
       "447           NaN         NaN        NaN        NaN       NaN        NaN  ...   \n",
       "448           NaN         NaN        NaN        NaN       NaN        NaN  ...   \n",
       "449           NaN         NaN        NaN        NaN       NaN        NaN  ...   \n",
       "450           NaN         NaN        NaN        NaN       NaN        NaN  ...   \n",
       "451           NaN         NaN        NaN        NaN       NaN        NaN  ...   \n",
       "\n",
       "                              page_name  \\\n",
       "0                              Wonkette   \n",
       "1                           SourcesNews   \n",
       "2                          Rare America   \n",
       "3    I DID NOT Vote For Hillary in 2016   \n",
       "4                         Proud Liberal   \n",
       "..                                  ...   \n",
       "447               In Democrats We Trust   \n",
       "448                     The Trump Media   \n",
       "449                        SpartaReport   \n",
       "450                Higgins News Network   \n",
       "451                Think Right Politics   \n",
       "\n",
       "                                                 about  fan_count  \\\n",
       "0    Welcome, Wonkette Operatives, to the Facebook ...      96322   \n",
       "1    Unfiltered and from reliable sources news from...      59306   \n",
       "2    News, issues, politics and premium video stori...    2982929   \n",
       "3                                                  NaN      36269   \n",
       "4    Your source for news, stories, and events.\\r\\n...     510991   \n",
       "..                                                 ...        ...   \n",
       "447                             In Democrats We Trust!     641395   \n",
       "448                             Website coming soon...      63551   \n",
       "449  A Conservative news and opinion website provid...       3054   \n",
       "450  Higgins News Network aggregates and reports wo...        743   \n",
       "451  This is Think Right - Inspiring thought since ...       1591   \n",
       "\n",
       "    talking_about_count                          website    year  month   day  \\\n",
       "0                  5483              http://wonkette.com  2004.0    NaN   NaN   \n",
       "1                   185          http://sourcesnews.com/  2005.0    4.0  14.0   \n",
       "2                244614                              NaN     NaN    NaN   NaN   \n",
       "3                    68                              NaN     NaN    NaN   NaN   \n",
       "4                 41971       http://theproudliberal.org  2016.0    NaN   NaN   \n",
       "..                  ...                              ...     ...    ...   ...   \n",
       "447               41288                              NaN     NaN    NaN   NaN   \n",
       "448                9432                              NaN     NaN    NaN   NaN   \n",
       "449                  20     https://www.spartareport.com  2016.0    2.0   NaN   \n",
       "450                   0  http://www.alexanderhiggins.com     NaN    NaN   NaN   \n",
       "451                   6           thinkrightpolitics.com  2017.0    3.0  22.0   \n",
       "\n",
       "     left_leaning  right_leaning  \n",
       "0               1              0  \n",
       "1               0              1  \n",
       "2               0              1  \n",
       "3               0              1  \n",
       "4               1              0  \n",
       "..            ...            ...  \n",
       "447             1              0  \n",
       "448             0              1  \n",
       "449             0              1  \n",
       "450             1              0  \n",
       "451             0              1  \n",
       "\n",
       "[452 rows x 23 columns]"
      ]
     },
     "execution_count": 261,
     "metadata": {},
     "output_type": "execute_result"
    }
   ],
   "source": [
    "combine=pd.merge(engagement,pages,how='outer',on='page_id')\n",
    "combine"
   ]
  },
  {
   "cell_type": "markdown",
   "id": "81526e26-6197-4a32-8fd9-470d0ac51edf",
   "metadata": {},
   "source": [
    "* Use the .isnull().sum() function to exam the missing values for the newly created dataset. Preparing the dataset for the next question."
   ]
  },
  {
   "cell_type": "code",
   "execution_count": 262,
   "id": "847b95c9-2d02-4f0d-bd04-58e7f6a0901f",
   "metadata": {},
   "outputs": [
    {
     "data": {
      "text/plain": [
       "page_id                  0\n",
       "status_published        37\n",
       "total_engagement        37\n",
       "num_reactions           37\n",
       "num_comments            37\n",
       "num_shares              37\n",
       "num_likes               37\n",
       "num_loves               37\n",
       "num_wows                37\n",
       "num_hahas               37\n",
       "num_sads                37\n",
       "num_angrys              37\n",
       "post_count              37\n",
       "page_name                0\n",
       "about                   26\n",
       "fan_count                0\n",
       "talking_about_count      0\n",
       "website                 29\n",
       "year                   241\n",
       "month                  332\n",
       "day                    362\n",
       "left_leaning             0\n",
       "right_leaning            0\n",
       "dtype: int64"
      ]
     },
     "execution_count": 262,
     "metadata": {},
     "output_type": "execute_result"
    }
   ],
   "source": [
    "combine.isnull().sum()"
   ]
  },
  {
   "cell_type": "markdown",
   "id": "01158d23-24cb-4644-a16c-47f7b6824689",
   "metadata": {},
   "source": [
    "## 3) To get a global picture of your data answer the questions below. If necessary, create new columns in your dataset necessary to answer the questions\n",
    "#### - How many pages in the dataset are left and how many right leaning? \n",
    "#### - When (in what year) were the pages in the dataset created?\n",
    "#### - What is the averge number of fans for left and right leaning websites?"
   ]
  },
  {
   "cell_type": "markdown",
   "id": "59fb82b7-f6eb-4fea-95e7-81876c9823cd",
   "metadata": {},
   "source": [
    "* Using the value_counts() function for column 'left_leaning' to count the absolute frequency of each category, i.e., pages which are left leaning and which are right leaning. According to the examination for missing value in the previous question, there is no missing value for both 'left_leaning' and 'right_leaning', columns, thus, the frequency of 0 in this column 'left_leaning' stands for people which are right leaning and we do not need to do the values counts for 'right_leaning' column again."
   ]
  },
  {
   "cell_type": "markdown",
   "id": "fe5ea45e-066a-47fa-8dce-9cd6ffd1379f",
   "metadata": {},
   "source": [
    "* Therefore, there are 310 pages in the dataset that are right leaning and 142 ones that are left leaning."
   ]
  },
  {
   "cell_type": "code",
   "execution_count": 283,
   "id": "6e070cad-2292-4994-8769-c522a9581199",
   "metadata": {},
   "outputs": [
    {
     "data": {
      "text/plain": [
       "0    310\n",
       "1    142\n",
       "Name: left_leaning, dtype: int64"
      ]
     },
     "execution_count": 283,
     "metadata": {},
     "output_type": "execute_result"
    }
   ],
   "source": [
    "combine['left_leaning'].value_counts()"
   ]
  },
  {
   "cell_type": "markdown",
   "id": "1391b251-6677-49e0-a0a6-334989bfe2a6",
   "metadata": {},
   "source": [
    "* Since the dataframe already contain detailed information for the year of creation for each page( if not null), this question is answered by the descriptives for the column ['year'] to know the frequency of the creation years."
   ]
  },
  {
   "cell_type": "code",
   "execution_count": 265,
   "id": "5686c8f8-45ab-4425-928c-937ae114638b",
   "metadata": {},
   "outputs": [
    {
     "data": {
      "text/plain": [
       "2012.0    26\n",
       "2016.0    21\n",
       "2011.0    17\n",
       "2015.0    15\n",
       "2013.0    14\n",
       "2010.0    11\n",
       "2009.0    11\n",
       "2008.0     9\n",
       "2004.0     8\n",
       "2014.0     8\n",
       "1996.0     5\n",
       "2001.0     5\n",
       "2005.0     5\n",
       "2007.0     4\n",
       "2003.0     3\n",
       "2000.0     3\n",
       "2002.0     3\n",
       "1998.0     3\n",
       "2017.0     3\n",
       "2006.0     3\n",
       "1982.0     2\n",
       "1995.0     2\n",
       "1969.0     2\n",
       "1988.0     2\n",
       "1997.0     2\n",
       "1961.0     2\n",
       "1776.0     2\n",
       "1987.0     1\n",
       "1963.0     1\n",
       "1976.0     1\n",
       "1865.0     1\n",
       "1954.0     1\n",
       "1943.0     1\n",
       "1999.0     1\n",
       "1973.0     1\n",
       "1945.0     1\n",
       "1950.0     1\n",
       "1994.0     1\n",
       "1970.0     1\n",
       "1956.0     1\n",
       "1985.0     1\n",
       "1944.0     1\n",
       "1986.0     1\n",
       "1990.0     1\n",
       "1909.0     1\n",
       "1967.0     1\n",
       "1800.0     1\n",
       "Name: year, dtype: int64"
      ]
     },
     "execution_count": 265,
     "metadata": {},
     "output_type": "execute_result"
    }
   ],
   "source": [
    "combine['year'].value_counts()"
   ]
  },
  {
   "cell_type": "markdown",
   "id": "a34432d5-aba0-4fd7-8a29-fb0d852352ca",
   "metadata": {},
   "source": [
    "* Obtain the average number of fans by acquiring the [fan_count] through groupby function, grouping the left and right leaning. When left equals 0 while right equals 1, the obtained number is the average fan count for right leaning. While the other one is the average fans number for left leaning pages. Therefore, the average fans number for right leaning pages are 684367 fans and that for left leaning pages are 698005 fans(all rounded)."
   ]
  },
  {
   "cell_type": "code",
   "execution_count": 266,
   "id": "recreational-accountability",
   "metadata": {},
   "outputs": [
    {
     "data": {
      "text/plain": [
       "left_leaning  right_leaning\n",
       "0             1                684367.090323\n",
       "1             0                698005.394366\n",
       "Name: fan_count, dtype: float64"
      ]
     },
     "execution_count": 266,
     "metadata": {},
     "output_type": "execute_result"
    }
   ],
   "source": [
    "combine.groupby(['left_leaning','right_leaning'])['fan_count'].mean()"
   ]
  },
  {
   "cell_type": "markdown",
   "id": "brutal-slide",
   "metadata": {
    "tags": []
   },
   "source": [
    "# Challenge 2\n",
    "\n",
    "Now, let's visualize what we have learned about our data. Provide visualizations for your answers to question 3, Challenge 1. Take into account the measurement levels of your variables to choose the appropriate visualization. Provide a short justification of your choice.\n"
   ]
  },
  {
   "cell_type": "markdown",
   "id": "3afc0614-dd27-4dc3-ad41-0b00c551f72c",
   "metadata": {
    "tags": []
   },
   "source": [
    "## 1.How many pages in the dataset are left and how many right leaning?"
   ]
  },
  {
   "cell_type": "markdown",
   "id": "d885daa3-7b15-405f-8407-23ddd8663303",
   "metadata": {},
   "source": [
    "* install the matplotlib and seaborn scipy"
   ]
  },
  {
   "cell_type": "code",
   "execution_count": 267,
   "id": "dd44cae3-445d-4ec8-913a-d437fd6fddae",
   "metadata": {},
   "outputs": [],
   "source": [
    "import matplotlib.pyplot as plt\n",
    "import seaborn as sns"
   ]
  },
  {
   "cell_type": "markdown",
   "id": "01580a1a-247a-43bd-85ec-5e722e4f29a8",
   "metadata": {},
   "source": [
    "* The variable, political leaning, is a categorical variablewith only two groups. The question asked 'how many', meaning it require the absolute frequency of the variable, i.e. the count, a continuous value which should be on y-axis.With only one variable, univariate visualization is adopteed.The countplot is adopted to compare the difference in frequency between two groups."
   ]
  },
  {
   "cell_type": "code",
   "execution_count": 268,
   "id": "7521bca6-0718-4392-9476-d819340f96c9",
   "metadata": {},
   "outputs": [
    {
     "data": {
      "text/plain": [
       "<AxesSubplot:xlabel='left_leaning', ylabel='count'>"
      ]
     },
     "execution_count": 268,
     "metadata": {},
     "output_type": "execute_result"
    },
    {
     "data": {
      "image/png": "[encoded data removed]",
      "text/plain": [
       "<Figure size 432x288 with 1 Axes>"
      ]
     },
     "metadata": {
      "needs_background": "light"
     },
     "output_type": "display_data"
    }
   ],
   "source": [
    "sns.countplot(x = 'left_leaning', data=combine)"
   ]
  },
  {
   "cell_type": "markdown",
   "id": "4d72a2c6-f929-4f25-93c3-cac5772ec5e8",
   "metadata": {},
   "source": [
    "## 2.When (in what year) were the pages in the dataset created"
   ]
  },
  {
   "cell_type": "markdown",
   "id": "6ff25683-19e6-42a0-ac36-c7aac177feb5",
   "metadata": {},
   "source": [
    "* The variable, year of the page's creation is a continuous variable. The values on y-axis is the absolute frequency of each appearing year. There's only one varibale, thus, univariate visualization is adopted. Histogram is adopted to visualize the frequency distribution of the years."
   ]
  },
  {
   "cell_type": "code",
   "execution_count": 269,
   "id": "fa921a9f-c600-4cbe-b4e9-49944db49e94",
   "metadata": {},
   "outputs": [
    {
     "data": {
      "text/plain": [
       "<AxesSubplot:xlabel='year', ylabel='Count'>"
      ]
     },
     "execution_count": 269,
     "metadata": {},
     "output_type": "execute_result"
    },
    {
     "data": {
      "image/png": "[encoded data removed]",
      "text/plain": [
       "<Figure size 432x288 with 1 Axes>"
      ]
     },
     "metadata": {
      "needs_background": "light"
     },
     "output_type": "display_data"
    }
   ],
   "source": [
    "sns.histplot(data=combine, x='year')"
   ]
  },
  {
   "cell_type": "markdown",
   "id": "07f29f0f-0366-4630-986e-727b6633120e",
   "metadata": {},
   "source": [
    "## 3.What is the averge number of fans for left and right leaning websites?"
   ]
  },
  {
   "cell_type": "markdown",
   "id": "07155a86-6fbf-4c51-aaf8-057f739004ef",
   "metadata": {},
   "source": [
    "* There are two variables involved in the visualization. The first variable political leaning is a categorical dummy varibale which only contain two groups. Its two categories have different descriptives for the other varibale fan counts. A barplot is adopted as bivariate visualization to display the difference in mean per categories."
   ]
  },
  {
   "cell_type": "code",
   "execution_count": 275,
   "id": "7c69a736-425d-4346-bb0f-4c6d73859369",
   "metadata": {},
   "outputs": [
    {
     "data": {
      "text/plain": [
       "<AxesSubplot:xlabel='left_leaning', ylabel='fan_count'>"
      ]
     },
     "execution_count": 275,
     "metadata": {},
     "output_type": "execute_result"
    },
    {
     "data": {
      "image/png": "[encoded data removed]",
      "text/plain": [
       "<Figure size 432x288 with 1 Axes>"
      ]
     },
     "metadata": {
      "needs_background": "light"
     },
     "output_type": "display_data"
    }
   ],
   "source": [
    "sns.barplot(data=combine, x='left_leaning', y = 'fan_count')"
   ]
  },
  {
   "cell_type": "markdown",
   "id": "racial-student",
   "metadata": {},
   "source": [
    "# Challenge 3 \n",
    "\n",
    "Imagine that you are conducting research on engagement with partisan news sites in pre-election period. You are interested in the following research question:\n",
    "\n",
    "*RQ*: To what extent is there a relation between political leaning of a news site on Facebook and the amount of engagement it recieves?\n",
    "\n",
    "In the final challenge, we ask you to answer the research question above. To answer the research question you need to:\n",
    "* Choose appropriate independent and dependent variable and shortly justify your choice.\n",
    "* Compute descriptive statistics for the chosen independent and dependent variable and interpret them. Explain your choice for the descriptives type. <br />*For this step, compute overall descritpive statistics for the independent and dependent variable separately. Make sure to choose the right statistical information to report depending on the measurement level of your variable.*\n",
    "* Create one univariate visualisation for the independent variable. Provide a short justification of your choice for visualisation type. <br />*Make sure to choose the appropriate visualisation for the selected variable*\n",
    "* Create one univariate visualisation for the dependent variable. Provide a short justification of your choice for visualisation type. <br />*Make sure to choose the appropriate visualisation for the selected variable*\n",
    "* Create one bivariate visualisation showing the relation between the independent and dependent variable. Provide a short justification of your choice for visualisation type. <br />*Make sure to choose the appropriate visualisation for the two variables*\n",
    "* Show the descriptives of the dependent variable grouped by the independent variable and interpret them.\n",
    "* Conduct appropriate statistical test, interpret the results and answer the RQ. <br />*Tip: consider the measurement levels of your variables to choose the appropriate test. You do not have to conduct any tests not shown in class*\n"
   ]
  },
  {
   "cell_type": "markdown",
   "id": "cc2ef489-15cf-41f2-a8f5-d69f0b9bf62d",
   "metadata": {},
   "source": [
    "## 1.Choose appropriate independent and dependent variable and shortly justify your choice."
   ]
  },
  {
   "cell_type": "markdown",
   "id": "c25da511-ed42-4095-8a02-261901b07f31",
   "metadata": {},
   "source": [
    "* Independent variable of this RQ is the political leaning of the page, a categorical variable with only two groups, which are either left or right. The position of political leaning can be determined by one statement.Thus,the column used for analysis is ['left_leaning'], for which value 1 stands for 'left' and 0 stands for 'right'.\n",
    "* Dependent variable is the amount of engagement for the page, a continuous variable. The amount fo enagement can be assesed by the aggreagate value of the enagegement in a certain period of time. Thus,the column used is ['total_engagement'], which stands for the total number of engagement with the page in the week."
   ]
  },
  {
   "cell_type": "markdown",
   "id": "04bd4736-d30a-49b9-a2d5-63be554acc17",
   "metadata": {
    "tags": []
   },
   "source": [
    "## 2.Compute descriptive statistics for the chosen independent and dependent variable and interpret them. Explain your choice for the descriptives type.\n",
    "For this step, compute overall descritpive statistics for the independent and dependent variable separately. Make sure to choose the right statistical information to report depending on the measurement level of your variable."
   ]
  },
  {
   "cell_type": "markdown",
   "id": "8faf65d9-28a3-4c31-a07d-b6255a13abd3",
   "metadata": {},
   "source": [
    "* According to the procedure in previous questions, the asnwer to statment 'whether the page is left leaning' can also be directly used to determine whether the page is left or right leaned. As categorical variable which only contain two groups, we only need the value counts for the varibale because descriptive datas like mean is meaningless when calculated for dummy variable."
   ]
  },
  {
   "cell_type": "code",
   "execution_count": 183,
   "id": "4d5acfa5-0732-4bbc-82cc-f8655c5f83be",
   "metadata": {},
   "outputs": [
    {
     "data": {
      "text/plain": [
       "0    310\n",
       "1    142\n",
       "Name: left_leaning, dtype: int64"
      ]
     },
     "execution_count": 183,
     "metadata": {},
     "output_type": "execute_result"
    }
   ],
   "source": [
    "combine['left_leaning'].value_counts()"
   ]
  },
  {
   "cell_type": "markdown",
   "id": "d76c3fcc-9e11-4b8c-93d9-1143c9cdb17a",
   "metadata": {},
   "source": [
    "* Since in the previous question, we already check that 'total_engagement' does not have missing value, we no longer need to drop rows. We use the .describe() function to pbtain the descriptive data for the dependent variable. Since the dependent varibale is a continuous variable,the descriptives are useful."
   ]
  },
  {
   "cell_type": "code",
   "execution_count": 216,
   "id": "ed319ad9-cd1d-496d-94b0-ee7fbe0f5ce7",
   "metadata": {},
   "outputs": [
    {
     "data": {
      "text/plain": [
       "count    4.150000e+02\n",
       "mean     1.420831e+06\n",
       "std      4.415878e+06\n",
       "min      0.000000e+00\n",
       "25%      2.731000e+03\n",
       "50%      9.002600e+04\n",
       "75%      1.048194e+06\n",
       "max      5.268795e+07\n",
       "Name: total_engagement, dtype: float64"
      ]
     },
     "execution_count": 216,
     "metadata": {},
     "output_type": "execute_result"
    }
   ],
   "source": [
    "combine['total_engagement'].describe()"
   ]
  },
  {
   "cell_type": "markdown",
   "id": "b37f8bb7-2fbc-4f39-8182-5fc2f7aba0f9",
   "metadata": {
    "tags": []
   },
   "source": [
    "## 3.Create one univariate visualisation for the independent variable. Provide a short justification of your choice for visualisation type.\n",
    "Make sure to choose the appropriate visualisation for the selected variable"
   ]
  },
  {
   "cell_type": "markdown",
   "id": "fd81fe87-e19f-403a-b3c2-554ec5dfb7d7",
   "metadata": {},
   "source": [
    "* Selected varibale is categorical varibale. Countplot is adopted to present the counts per categories(left and right) as well as clearly display the frequency difference between the them."
   ]
  },
  {
   "cell_type": "code",
   "execution_count": 194,
   "id": "aafb51b8-bd49-4d3c-beb5-175b42dd6439",
   "metadata": {},
   "outputs": [
    {
     "data": {
      "text/plain": [
       "<AxesSubplot:xlabel='left_leaning', ylabel='count'>"
      ]
     },
     "execution_count": 194,
     "metadata": {},
     "output_type": "execute_result"
    },
    {
     "data": {
      "image/png": "[encoded data removed]",
      "text/plain": [
       "<Figure size 432x288 with 1 Axes>"
      ]
     },
     "metadata": {
      "needs_background": "light"
     },
     "output_type": "display_data"
    }
   ],
   "source": [
    "sns.countplot(x = 'left_leaning', data=combine)"
   ]
  },
  {
   "cell_type": "markdown",
   "id": "18bf197a-2f55-44c2-9146-b93f3a26c4e4",
   "metadata": {},
   "source": [
    "## 4.Create one univariate visualisation for the dependent variable. Provide a short justification of your choice for visualisation type.\n",
    "Make sure to choose the appropriate visualisation for the selected variable"
   ]
  },
  {
   "cell_type": "markdown",
   "id": "7c28c1e2-7aca-43d7-93f1-652440a2f876",
   "metadata": {},
   "source": [
    "* Selected varibale is continuous varibale. Histogram can clearly display the frequency distribution of the continuous varibale. Because the number is rather huge, two graphs are presented: the first one for audience to view the general picture of the whole varibale distribution, and the second one is a detailed display of the part which most frequency gather."
   ]
  },
  {
   "cell_type": "code",
   "execution_count": null,
   "id": "e240a82b-feb5-446f-b7fe-d5c86bee3063",
   "metadata": {},
   "outputs": [
    {
     "data": {
      "text/plain": [
       "<AxesSubplot:xlabel='total_engagement', ylabel='Count'>"
      ]
     },
     "execution_count": 230,
     "metadata": {},
     "output_type": "execute_result"
    },
    {
     "data": {
      "image/png": "[encoded data removed]",
      "text/plain": [
       "<Figure size 432x288 with 1 Axes>"
      ]
     },
     "metadata": {
      "needs_background": "light"
     },
     "output_type": "display_data"
    }
   ],
   "source": [
    "sns.histplot(data=combine, x='total_engagement')"
   ]
  },
  {
   "cell_type": "code",
   "execution_count": 231,
   "id": "436b3435-eb7e-4153-b177-aae181f87840",
   "metadata": {},
   "outputs": [
    {
     "data": {
      "text/plain": [
       "<AxesSubplot:xlabel='total_engagement', ylabel='Count'>"
      ]
     },
     "execution_count": 231,
     "metadata": {},
     "output_type": "execute_result"
    },
    {
     "data": {
      "image/png": "[encoded data removed]",
      "text/plain": [
       "<Figure size 432x288 with 1 Axes>"
      ]
     },
     "metadata": {
      "needs_background": "light"
     },
     "output_type": "display_data"
    }
   ],
   "source": [
    "sns.histplot(data=combine[(combine['total_engagement']<100000)], x='total_engagement')"
   ]
  },
  {
   "cell_type": "markdown",
   "id": "365fdee8-d4b7-426c-85fa-d7d2603745c4",
   "metadata": {},
   "source": [
    "## 5.Create one bivariate visualisation showing the relation between the independent and dependent variable. Provide a short justification of your choice for visualisation type."
   ]
  },
  {
   "cell_type": "markdown",
   "id": "a5d12613-7dfa-4d51-9a37-21f08c33fd2f",
   "metadata": {},
   "source": [
    "* Independent varibale is categorical while the dependent varibale is continuous. Line plot is more used for presenting the variation of variable and regplot is used for two continuous variables, they are both not proper pair. While this barplot is adopted to display the difference in mean of total engagment for left and right leaning. This presentation conforms our RQ which we want to know if the difference of the political leaning category related to the total engagement."
   ]
  },
  {
   "cell_type": "code",
   "execution_count": 301,
   "id": "0f22f1e3-533c-4e12-9edb-6f23c670880e",
   "metadata": {},
   "outputs": [
    {
     "data": {
      "text/plain": [
       "<AxesSubplot:xlabel='left_leaning', ylabel='total_engagement'>"
      ]
     },
     "execution_count": 301,
     "metadata": {},
     "output_type": "execute_result"
    },
    {
     "data": {
      "image/png": "[encoded data removed]",
      "text/plain": [
       "<Figure size 432x288 with 1 Axes>"
      ]
     },
     "metadata": {
      "needs_background": "light"
     },
     "output_type": "display_data"
    }
   ],
   "source": [
    "sns.barplot(x=\"left_leaning\", y=\"total_engagement\", data=combine)"
   ]
  },
  {
   "cell_type": "markdown",
   "id": "590ed5b2-dcda-4222-a9d1-1e2c0de59e52",
   "metadata": {},
   "source": [
    "## 6.Show the descriptives of the dependent variable grouped by the independent variable and interpret them"
   ]
  },
  {
   "cell_type": "markdown",
   "id": "6f371c69-0abd-4e61-b022-d02b2bdab0d5",
   "metadata": {},
   "source": [
    "* The statistics for dependent variable ['total_engagement'] grouped by independent varibale['left_leaning'] is presented below using the .goupby() function and .describe() function."
   ]
  },
  {
   "cell_type": "code",
   "execution_count": 282,
   "id": "7d40d04f-91ea-4ddb-8642-798ec19d630f",
   "metadata": {},
   "outputs": [
    {
     "data": {
      "text/html": [
       "<div>\n",
       "<style scoped>\n",
       "    .dataframe tbody tr th:only-of-type {\n",
       "        vertical-align: middle;\n",
       "    }\n",
       "\n",
       "    .dataframe tbody tr th {\n",
       "        vertical-align: top;\n",
       "    }\n",
       "\n",
       "    .dataframe thead th {\n",
       "        text-align: right;\n",
       "    }\n",
       "</style>\n",
       "<table border=\"1\" class=\"dataframe\">\n",
       "  <thead>\n",
       "    <tr style=\"text-align: right;\">\n",
       "      <th>left_leaning</th>\n",
       "      <th>0</th>\n",
       "      <th>1</th>\n",
       "    </tr>\n",
       "  </thead>\n",
       "  <tbody>\n",
       "    <tr>\n",
       "      <th>count</th>\n",
       "      <td>2.850000e+02</td>\n",
       "      <td>1.300000e+02</td>\n",
       "    </tr>\n",
       "    <tr>\n",
       "      <th>mean</th>\n",
       "      <td>1.370237e+06</td>\n",
       "      <td>1.531749e+06</td>\n",
       "    </tr>\n",
       "    <tr>\n",
       "      <th>std</th>\n",
       "      <td>3.834547e+06</td>\n",
       "      <td>5.494745e+06</td>\n",
       "    </tr>\n",
       "    <tr>\n",
       "      <th>min</th>\n",
       "      <td>0.000000e+00</td>\n",
       "      <td>2.000000e+00</td>\n",
       "    </tr>\n",
       "    <tr>\n",
       "      <th>25%</th>\n",
       "      <td>2.506000e+03</td>\n",
       "      <td>3.030500e+03</td>\n",
       "    </tr>\n",
       "    <tr>\n",
       "      <th>50%</th>\n",
       "      <td>8.021500e+04</td>\n",
       "      <td>1.100705e+05</td>\n",
       "    </tr>\n",
       "    <tr>\n",
       "      <th>75%</th>\n",
       "      <td>1.114040e+06</td>\n",
       "      <td>7.862398e+05</td>\n",
       "    </tr>\n",
       "    <tr>\n",
       "      <th>max</th>\n",
       "      <td>4.757304e+07</td>\n",
       "      <td>5.268795e+07</td>\n",
       "    </tr>\n",
       "  </tbody>\n",
       "</table>\n",
       "</div>"
      ],
      "text/plain": [
       "left_leaning             0             1\n",
       "count         2.850000e+02  1.300000e+02\n",
       "mean          1.370237e+06  1.531749e+06\n",
       "std           3.834547e+06  5.494745e+06\n",
       "min           0.000000e+00  2.000000e+00\n",
       "25%           2.506000e+03  3.030500e+03\n",
       "50%           8.021500e+04  1.100705e+05\n",
       "75%           1.114040e+06  7.862398e+05\n",
       "max           4.757304e+07  5.268795e+07"
      ]
     },
     "execution_count": 282,
     "metadata": {},
     "output_type": "execute_result"
    }
   ],
   "source": [
    "combine.groupby(['left_leaning'])['total_engagement'].describe().transpose()"
   ]
  },
  {
   "cell_type": "markdown",
   "id": "f7ef94e2-046d-476d-b0c9-8cdb3877bd8f",
   "metadata": {},
   "source": [
    "* There's a possible relation between political leaning and amount of engagement since left leaning page has higher mean than right leaning ones as well as the greater standard deviation. But we still need statistic test to trully confirm."
   ]
  },
  {
   "cell_type": "markdown",
   "id": "7ba36d6d-43cf-4288-a03e-914b060f2d4b",
   "metadata": {
    "tags": []
   },
   "source": [
    "## 7.Conduct appropriate statistical test, interpret the results and answer the RQ."
   ]
  },
  {
   "cell_type": "markdown",
   "id": "82ab28cc-422b-4d00-a85f-5d4e19b6cd47",
   "metadata": {},
   "source": [
    "* Import scipy stats. Considering the independent variable is categorical with two groups and dependent variable is continuous, we use the independent sample t-test to test the RQ."
   ]
  },
  {
   "cell_type": "code",
   "execution_count": 295,
   "id": "77fa27da-285d-40af-8eab-88d22ec6d640",
   "metadata": {},
   "outputs": [
    {
     "data": {
      "text/plain": [
       "Ttest_indResult(statistic=-0.34522055134616464, pvalue=0.7301043222352441)"
      ]
     },
     "execution_count": 295,
     "metadata": {},
     "output_type": "execute_result"
    }
   ],
   "source": [
    "import scipy.stats as stats\n",
    "\n",
    "\n",
    "stats.ttest_ind(combine['total_engagement'][combine['left_leaning'] == 0],\n",
    "                combine['total_engagement'][combine['left_leaning'] == 1],nan_policy='omit')"
   ]
  },
  {
   "cell_type": "markdown",
   "id": "e3e54d1f-2338-4630-a7dd-36e229308b78",
   "metadata": {},
   "source": [
    "* T Statistic show negative 0.34, meaning the effect is weak negative effect. But the p-value is much greater than 0.05, thus the test result is not significant. Since there is no significant difference between the mean of the two groups, we conclude that there's no relation between political leaning of a news site on Facebook and the amount of engagement it recieves."
   ]
  }
 ],
 "metadata": {
  "kernelspec": {
   "display_name": "Python 3 (ipykernel)",
   "language": "python",
   "name": "python3"
  },
  "language_info": {
   "codemirror_mode": {
    "name": "ipython",
    "version": 3
   },
   "file_extension": ".py",
   "mimetype": "text/x-python",
   "name": "python",
   "nbconvert_exporter": "python",
   "pygments_lexer": "ipython3",
   "version": "3.9.7"
  }
 },
 "nbformat": 4,
 "nbformat_minor": 5
}
